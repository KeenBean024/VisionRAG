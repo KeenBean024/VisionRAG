{
 "cells": [
  {
   "cell_type": "code",
   "execution_count": 21,
   "metadata": {},
   "outputs": [
    {
     "name": "stderr",
     "output_type": "stream",
     "text": [
      "c:\\Users\\saura\\miniconda3\\envs\\COLFLOR\\Lib\\site-packages\\timm\\models\\layers\\__init__.py:48: FutureWarning: Importing from timm.models.layers is deprecated, please import via timm.layers\n",
      "  warnings.warn(f\"Importing from {__name__} is deprecated, please import via timm.layers\", FutureWarning)\n"
     ]
    }
   ],
   "source": [
    "from colpali_engine.models import ColFlor\n",
    "from colpali_engine.models import ColFlorProcessor\n",
    "from colpali_engine.utils.processing_utils import BaseVisualRetrieverProcessor\n",
    "from colpali_engine.utils.torch_utils import ListDataset, get_torch_device\n",
    "import torch\n",
    "from typing import List, cast"
   ]
  },
  {
   "cell_type": "code",
   "execution_count": 22,
   "metadata": {},
   "outputs": [
    {
     "name": "stdout",
     "output_type": "stream",
     "text": [
      "Device used: cuda:0\n"
     ]
    }
   ],
   "source": [
    "device = get_torch_device(\"auto\")\n",
    "print(f\"Device used: {device}\")"
   ]
  },
  {
   "cell_type": "code",
   "execution_count": 23,
   "metadata": {},
   "outputs": [
    {
     "name": "stdout",
     "output_type": "stream",
     "text": [
      "True\n",
      "12.4\n",
      "90100\n"
     ]
    }
   ],
   "source": [
    "import torch\n",
    "print(torch.cuda.is_available())  # Should return True\n",
    "print(torch.version.cuda)  # Should match CUDA version\n",
    "print(torch.backends.cudnn.version())  # Should return cuDNN version\n"
   ]
  },
  {
   "cell_type": "code",
   "execution_count": 24,
   "metadata": {},
   "outputs": [],
   "source": [
    "model_name = \"ahmed-masry/ColFlor\"\n",
    "\n",
    "# Load model\n",
    "model = ColFlor.from_pretrained(\n",
    "    model_name,\n",
    "    #torch_dtype=torch.bfloat16,\n",
    "    device_map=device,\n",
    ").eval()"
   ]
  },
  {
   "cell_type": "code",
   "execution_count": 25,
   "metadata": {},
   "outputs": [],
   "source": [
    "processor = ColFlorProcessor.from_pretrained(model_name)"
   ]
  },
  {
   "cell_type": "code",
   "execution_count": 14,
   "metadata": {},
   "outputs": [],
   "source": [
    "from PIL import Image\n",
    "\n",
    "image_path = r\"C:\\Users\\saura\\Pictures\\7290_proposal.png\"\n",
    "\n",
    "# Open the image\n",
    "image = Image.open(image_path)\n",
    "\n",
    "# # Display the image (optional)\n",
    "# image.show()"
   ]
  },
  {
   "cell_type": "code",
   "execution_count": 16,
   "metadata": {},
   "outputs": [],
   "source": [
    "data = processor.process_images([image])"
   ]
  },
  {
   "cell_type": "code",
   "execution_count": 20,
   "metadata": {},
   "outputs": [
    {
     "data": {
      "text/plain": [
       "dict_keys(['input_ids', 'attention_mask', 'pixel_values', 'full_attention_mask'])"
      ]
     },
     "execution_count": 20,
     "metadata": {},
     "output_type": "execute_result"
    }
   ],
   "source": [
    "data.keys()"
   ]
  },
  {
   "cell_type": "code",
   "execution_count": 23,
   "metadata": {},
   "outputs": [
    {
     "name": "stdout",
     "output_type": "stream",
     "text": [
      "torch.Size([1, 587, 128])\n"
     ]
    }
   ],
   "source": [
    "ds: List[torch.Tensor] = []\n",
    "with torch.no_grad():\n",
    "    batch_doc = {k: v.to(model.device) for k, v in data.items()}\n",
    "    embeddings_doc = model(**batch_doc)\n",
    "    print(embeddings_doc.shape)\n",
    "ds.extend(list(torch.unbind(embeddings_doc.to(\"cpu\"))))\n"
   ]
  },
  {
   "cell_type": "code",
   "execution_count": 26,
   "metadata": {},
   "outputs": [],
   "source": [
    "from pdf2image import convert_from_path\n",
    "pages = convert_from_path(r\"F:\\MS files\\Course\\CS7290\\project\\VisionRAG\\asset\\Chubb-Limited-Investor-Presentation-December-2023.pdf\", poppler_path=r\"C:\\Users\\saura\\poppler-24.08.0\\Library\\bin\")"
   ]
  },
  {
   "cell_type": "code",
   "execution_count": 27,
   "metadata": {},
   "outputs": [
    {
     "name": "stdout",
     "output_type": "stream",
     "text": [
      "torch.Size([35, 587, 128])\n"
     ]
    }
   ],
   "source": [
    "data = processor.process_images(pages)\n",
    "ds: List[torch.Tensor] = []\n",
    "\n",
    "with torch.no_grad():\n",
    "    batch_doc = {k: v.to(model.device) for k, v in data.items()}\n",
    "    embeddings_doc = model(**batch_doc)\n",
    "    \n",
    "    print(embeddings_doc.shape)\n",
    "ds.extend(list(torch.unbind(embeddings_doc.to(\"cpu\"))))"
   ]
  },
  {
   "cell_type": "code",
   "execution_count": 31,
   "metadata": {},
   "outputs": [
    {
     "data": {
      "text/plain": [
       "tensor([[-0.0157,  0.0849, -0.0257,  ..., -0.2507,  0.0864,  0.1317],\n",
       "        [-0.0066,  0.0899, -0.0483,  ..., -0.2438,  0.0753,  0.1247],\n",
       "        [-0.0083,  0.0907, -0.0445,  ..., -0.2458,  0.0787,  0.1249],\n",
       "        ...,\n",
       "        [-0.0267,  0.0178,  0.0234,  ...,  0.0290,  0.0528,  0.1370],\n",
       "        [-0.1165,  0.0698,  0.0272,  ...,  0.0290,  0.1768,  0.0944],\n",
       "        [-0.1129,  0.0480,  0.0732,  ...,  0.1011,  0.1718,  0.1023]])"
      ]
     },
     "execution_count": 31,
     "metadata": {},
     "output_type": "execute_result"
    }
   ],
   "source": [
    "ds[0]"
   ]
  },
  {
   "cell_type": "code",
   "execution_count": null,
   "metadata": {},
   "outputs": [
    {
     "data": {
      "text/plain": [
       "587"
      ]
     },
     "execution_count": 30,
     "metadata": {},
     "output_type": "execute_result"
    }
   ],
   "source": [
    "len(ds[0])"
   ]
  },
  {
   "cell_type": "markdown",
   "metadata": {},
   "source": [
    "## Test DB"
   ]
  },
  {
   "cell_type": "code",
   "execution_count": 14,
   "metadata": {},
   "outputs": [],
   "source": [
    "import psycopg2\n",
    "import numpy as np\n",
    "\n",
    "# Connect to your database\n",
    "conn = psycopg2.connect(\n",
    "    dbname=\"vision_rag\",\n",
    "    user=\"admin\",\n",
    "    password=\"admin\",\n",
    "    host=\"localhost\"\n",
    ")\n",
    "# # Create a table with a vector column\n",
    "# with conn.cursor() as cur:\n",
    "#     cur.execute(\"\"\"\n",
    "#         CREATE TABLE items (\n",
    "#             id serial PRIMARY KEY,\n",
    "#             embedding vector(3)\n",
    "#         );\n",
    "#     \"\"\")\n",
    "#     conn.commit()"
   ]
  },
  {
   "cell_type": "code",
   "execution_count": 19,
   "metadata": {},
   "outputs": [],
   "source": [
    "import psycopg2\n",
    "from psycopg2.extras import execute_values\n",
    "\n",
    "def store_page_embeddings(filename, page_embeddings):\n",
    "    \"\"\"\n",
    "    Stores the embeddings of each page in the PostgreSQL database.\n",
    "\n",
    "    :param filename: Name of the document file.\n",
    "    :param page_embeddings: List of tuples, each containing the page number and its embedding vector.\n",
    "    \"\"\"\n",
    "    # Connect to PostgreSQL\n",
    "    conn = psycopg2.connect(\n",
    "        dbname=\"vision_rag\",\n",
    "        user=\"admin\",\n",
    "        password=\"admin\",\n",
    "        host='localhost',\n",
    "        port='5432'\n",
    "    )\n",
    "    cursor = conn.cursor()\n",
    "\n",
    "    # Prepare data for insertion\n",
    "    records = [(filename, page_embeddings)]\n",
    "\n",
    "    # Insert records into the database\n",
    "    insert_query = \"\"\"\n",
    "        INSERT INTO documents (filename, embedding)\n",
    "        VALUES %s\n",
    "    \"\"\"\n",
    "    execute_values(cursor, insert_query, records)\n",
    "\n",
    "    # Commit and close connection\n",
    "    conn.commit()\n",
    "    cursor.close()\n",
    "    conn.close()\n"
   ]
  },
  {
   "cell_type": "code",
   "execution_count": 43,
   "metadata": {},
   "outputs": [
    {
     "data": {
      "text/plain": [
       "torch.Size([2629760])"
      ]
     },
     "execution_count": 43,
     "metadata": {},
     "output_type": "execute_result"
    }
   ],
   "source": [
    "embeddings_doc.flatten().shape"
   ]
  },
  {
   "cell_type": "code",
   "execution_count": 44,
   "metadata": {},
   "outputs": [
    {
     "ename": "ProgramLimitExceeded",
     "evalue": "vector cannot have more than 16000 dimensions\n",
     "output_type": "error",
     "traceback": [
      "\u001b[31m---------------------------------------------------------------------------\u001b[39m",
      "\u001b[31mProgramLimitExceeded\u001b[39m                      Traceback (most recent call last)",
      "\u001b[36mCell\u001b[39m\u001b[36m \u001b[39m\u001b[32mIn[44]\u001b[39m\u001b[32m, line 1\u001b[39m\n\u001b[32m----> \u001b[39m\u001b[32m1\u001b[39m \u001b[43mstore_page_embeddings\u001b[49m\u001b[43m(\u001b[49m\u001b[33;43m\"\u001b[39;49m\u001b[33;43mtest.pdf\u001b[39;49m\u001b[33;43m\"\u001b[39;49m\u001b[43m,\u001b[49m\u001b[43m \u001b[49m\u001b[43membeddings_doc\u001b[49m\u001b[43m.\u001b[49m\u001b[43mcpu\u001b[49m\u001b[43m(\u001b[49m\u001b[43m)\u001b[49m\u001b[43m.\u001b[49m\u001b[43mflatten\u001b[49m\u001b[43m(\u001b[49m\u001b[43m)\u001b[49m\u001b[43m.\u001b[49m\u001b[43mtolist\u001b[49m\u001b[43m(\u001b[49m\u001b[43m)\u001b[49m\u001b[43m)\u001b[49m\n",
      "\u001b[36mCell\u001b[39m\u001b[36m \u001b[39m\u001b[32mIn[19]\u001b[39m\u001b[32m, line 29\u001b[39m, in \u001b[36mstore_page_embeddings\u001b[39m\u001b[34m(filename, page_embeddings)\u001b[39m\n\u001b[32m     24\u001b[39m \u001b[38;5;66;03m# Insert records into the database\u001b[39;00m\n\u001b[32m     25\u001b[39m insert_query = \u001b[33m\"\"\"\u001b[39m\n\u001b[32m     26\u001b[39m \u001b[33m    INSERT INTO documents (filename, embedding)\u001b[39m\n\u001b[32m     27\u001b[39m \u001b[33m    VALUES \u001b[39m\u001b[38;5;132;01m%s\u001b[39;00m\n\u001b[32m     28\u001b[39m \u001b[33m\u001b[39m\u001b[33m\"\"\"\u001b[39m\n\u001b[32m---> \u001b[39m\u001b[32m29\u001b[39m \u001b[43mexecute_values\u001b[49m\u001b[43m(\u001b[49m\u001b[43mcursor\u001b[49m\u001b[43m,\u001b[49m\u001b[43m \u001b[49m\u001b[43minsert_query\u001b[49m\u001b[43m,\u001b[49m\u001b[43m \u001b[49m\u001b[43mrecords\u001b[49m\u001b[43m)\u001b[49m\n\u001b[32m     31\u001b[39m \u001b[38;5;66;03m# Commit and close connection\u001b[39;00m\n\u001b[32m     32\u001b[39m conn.commit()\n",
      "\u001b[36mFile \u001b[39m\u001b[32mc:\\Users\\saura\\miniconda3\\envs\\COLFLOR\\Lib\\site-packages\\psycopg2\\extras.py:1299\u001b[39m, in \u001b[36mexecute_values\u001b[39m\u001b[34m(cur, sql, argslist, template, page_size, fetch)\u001b[39m\n\u001b[32m   1297\u001b[39m     parts.append(\u001b[33mb\u001b[39m\u001b[33m'\u001b[39m\u001b[33m,\u001b[39m\u001b[33m'\u001b[39m)\n\u001b[32m   1298\u001b[39m parts[-\u001b[32m1\u001b[39m:] = post\n\u001b[32m-> \u001b[39m\u001b[32m1299\u001b[39m \u001b[43mcur\u001b[49m\u001b[43m.\u001b[49m\u001b[43mexecute\u001b[49m\u001b[43m(\u001b[49m\u001b[33;43mb\u001b[39;49m\u001b[33;43m'\u001b[39;49m\u001b[33;43m'\u001b[39;49m\u001b[43m.\u001b[49m\u001b[43mjoin\u001b[49m\u001b[43m(\u001b[49m\u001b[43mparts\u001b[49m\u001b[43m)\u001b[49m\u001b[43m)\u001b[49m\n\u001b[32m   1300\u001b[39m \u001b[38;5;28;01mif\u001b[39;00m fetch:\n\u001b[32m   1301\u001b[39m     result.extend(cur.fetchall())\n",
      "\u001b[31mProgramLimitExceeded\u001b[39m: vector cannot have more than 16000 dimensions\n"
     ]
    }
   ],
   "source": [
    "store_page_embeddings(\"test.pdf\", embeddings_doc.cpu().flatten().tolist())"
   ]
  },
  {
   "cell_type": "markdown",
   "metadata": {},
   "source": [
    "## Test hdf5"
   ]
  },
  {
   "cell_type": "code",
   "execution_count": null,
   "metadata": {},
   "outputs": [],
   "source": [
    "import h5py\n",
    "import numpy as np\n",
    "\n"
   ]
  },
  {
   "cell_type": "code",
   "execution_count": 46,
   "metadata": {},
   "outputs": [],
   "source": [
    "store_vector(\"test.pdf\", embeddings_doc.cpu())"
   ]
  },
  {
   "cell_type": "code",
   "execution_count": 47,
   "metadata": {},
   "outputs": [],
   "source": [
    "def get_vector_by_filename(filename):\n",
    "    with h5py.File('vectors.h5', 'r') as f:\n",
    "        if filename in f:\n",
    "            return f[filename]['vector'][()]\n",
    "    return None\n",
    "\n",
    "vector = get_vector_by_filename(\"test.pdf\")"
   ]
  },
  {
   "cell_type": "code",
   "execution_count": 49,
   "metadata": {},
   "outputs": [
    {
     "data": {
      "text/plain": [
       "(35, 587, 128)"
      ]
     },
     "execution_count": 49,
     "metadata": {},
     "output_type": "execute_result"
    }
   ],
   "source": [
    "vector.shape"
   ]
  },
  {
   "cell_type": "markdown",
   "metadata": {},
   "source": [
    "## Run comparison"
   ]
  },
  {
   "cell_type": "code",
   "execution_count": 55,
   "metadata": {},
   "outputs": [
    {
     "data": {
      "text/plain": [
       "torch.Size([1, 23, 128])"
      ]
     },
     "execution_count": 55,
     "metadata": {},
     "output_type": "execute_result"
    }
   ],
   "source": [
    "text = \"What percentage of income came from agriculture sector?\"\n",
    "with torch.no_grad():\n",
    "    batch_doc = {k: v.to(model.device) for k, v in processor.process_queries([text]).items()}\n",
    "    text_embed = model(**batch_doc)\n",
    "text_embed.shape\n"
   ]
  },
  {
   "cell_type": "code",
   "execution_count": 52,
   "metadata": {},
   "outputs": [
    {
     "data": {
      "text/plain": [
       "{'input_ids': tensor([[    0, 45641,    35,   305,     1,     1,     1,     1,     1,     1,\n",
       "             1,     1,     1,     1,     2,     1],\n",
       "        [    0, 45641,    35,  1368,     1,     1,     1,     1,     1,     1,\n",
       "             1,     1,     1,     1,     2,     1],\n",
       "        [    0, 45641,    35,    10,     1,     1,     1,     1,     1,     1,\n",
       "             1,     1,     1,     1,     2,     1],\n",
       "        [    0, 45641,    35,   326,     1,     1,     1,     1,     1,     1,\n",
       "             1,     1,     1,     1,     2,     1],\n",
       "        [    0, 45641,    35,  1437,  1437,     1,     1,     1,     1,     1,\n",
       "             1,     1,     1,     1,     1,     2],\n",
       "        [    0, 45641,    35,   181,     1,     1,     1,     1,     1,     1,\n",
       "             1,     1,     1,     1,     2,     1],\n",
       "        [    0, 45641,    35,   364,     1,     1,     1,     1,     1,     1,\n",
       "             1,     1,     1,     1,     2,     1],\n",
       "        [    0, 45641,    35,   910,     1,     1,     1,     1,     1,     1,\n",
       "             1,     1,     1,     1,     2,     1],\n",
       "        [    0, 45641,    35,   740,     1,     1,     1,     1,     1,     1,\n",
       "             1,     1,     1,     1,     2,     1],\n",
       "        [    0, 45641,    35,   364,     1,     1,     1,     1,     1,     1,\n",
       "             1,     1,     1,     1,     2,     1],\n",
       "        [    0, 45641,    35,   295,     1,     1,     1,     1,     1,     1,\n",
       "             1,     1,     1,     1,     2,     1],\n",
       "        [    0, 45641,    35,   326,     1,     1,     1,     1,     1,     1,\n",
       "             1,     1,     1,     1,     2,     1],\n",
       "        [    0, 45641,    35,    10,     1,     1,     1,     1,     1,     1,\n",
       "             1,     1,     1,     1,     2,     1],\n",
       "        [    0, 45641,    35,   821,     1,     1,     1,     1,     1,     1,\n",
       "             1,     1,     1,     1,     2,     1],\n",
       "        [    0, 45641,    35,   364,     1,     1,     1,     1,     1,     1,\n",
       "             1,     1,     1,     1,     2,     1],\n",
       "        [    0, 45641,    35,  1437,  1437,     1,     1,     1,     1,     1,\n",
       "             1,     1,     1,     1,     1,     2],\n",
       "        [    0, 45641,    35,  1021,     1,     1,     1,     1,     1,     1,\n",
       "             1,     1,     1,     1,     2,     1],\n",
       "        [    0, 45641,    35,   856,     1,     1,     1,     1,     1,     1,\n",
       "             1,     1,     1,     1,     2,     1],\n",
       "        [    0, 45641,    35,  1437,  1437,     1,     1,     1,     1,     1,\n",
       "             1,     1,     1,     1,     1,     2],\n",
       "        [    0, 45641,    35,   939,     1,     1,     1,     1,     1,     1,\n",
       "             1,     1,     1,     1,     2,     1],\n",
       "        [    0, 45641,    35,   295,     1,     1,     1,     1,     1,     1,\n",
       "             1,     1,     1,     1,     2,     1],\n",
       "        [    0, 45641,    35,   740,     1,     1,     1,     1,     1,     1,\n",
       "             1,     1,     1,     1,     2,     1],\n",
       "        [    0, 45641,    35,  1021,     1,     1,     1,     1,     1,     1,\n",
       "             1,     1,     1,     1,     2,     1],\n",
       "        [    0, 45641,    35,   475,     1,     1,     1,     1,     1,     1,\n",
       "             1,     1,     1,     1,     2,     1],\n",
       "        [    0, 45641,    35,   364,     1,     1,     1,     1,     1,     1,\n",
       "             1,     1,     1,     1,     2,     1],\n",
       "        [    0, 45641,    35,  1437,  1437,     1,     1,     1,     1,     1,\n",
       "             1,     1,     1,     1,     1,     2],\n",
       "        [    0, 45641,    35,   740,     1,     1,     1,     1,     1,     1,\n",
       "             1,     1,     1,     1,     2,     1],\n",
       "        [    0, 45641,    35,    10,     1,     1,     1,     1,     1,     1,\n",
       "             1,     1,     1,     1,     2,     1],\n",
       "        [    0, 45641,    35,   475,     1,     1,     1,     1,     1,     1,\n",
       "             1,     1,     1,     1,     2,     1],\n",
       "        [    0, 45641,    35,   364,     1,     1,     1,     1,     1,     1,\n",
       "             1,     1,     1,     1,     2,     1],\n",
       "        [    0, 45641,    35,  1437,  1437,     1,     1,     1,     1,     1,\n",
       "             1,     1,     1,     1,     1,     2],\n",
       "        [    0, 45641,    35,   856,     1,     1,     1,     1,     1,     1,\n",
       "             1,     1,     1,     1,     2,     1],\n",
       "        [    0, 45641,    35,   910,     1,     1,     1,     1,     1,     1,\n",
       "             1,     1,     1,     1,     2,     1],\n",
       "        [    0, 45641,    35,  1021,     1,     1,     1,     1,     1,     1,\n",
       "             1,     1,     1,     1,     2,     1],\n",
       "        [    0, 45641,    35,   475,     1,     1,     1,     1,     1,     1,\n",
       "             1,     1,     1,     1,     2,     1],\n",
       "        [    0, 45641,    35,  1437,  1437,     1,     1,     1,     1,     1,\n",
       "             1,     1,     1,     1,     1,     2],\n",
       "        [    0, 45641,    35,    10,     1,     1,     1,     1,     1,     1,\n",
       "             1,     1,     1,     1,     2,     1],\n",
       "        [    0, 45641,    35,   821,     1,     1,     1,     1,     1,     1,\n",
       "             1,     1,     1,     1,     2,     1],\n",
       "        [    0, 45641,    35,   910,     1,     1,     1,     1,     1,     1,\n",
       "             1,     1,     1,     1,     2,     1],\n",
       "        [    0, 45641,    35,   939,     1,     1,     1,     1,     1,     1,\n",
       "             1,     1,     1,     1,     2,     1],\n",
       "        [    0, 45641,    35,   740,     1,     1,     1,     1,     1,     1,\n",
       "             1,     1,     1,     1,     2,     1],\n",
       "        [    0, 45641,    35,  1717,     1,     1,     1,     1,     1,     1,\n",
       "             1,     1,     1,     1,     2,     1],\n",
       "        [    0, 45641,    35,   784,     1,     1,     1,     1,     1,     1,\n",
       "             1,     1,     1,     1,     2,     1],\n",
       "        [    0, 45641,    35,   326,     1,     1,     1,     1,     1,     1,\n",
       "             1,     1,     1,     1,     2,     1],\n",
       "        [    0, 45641,    35,  1717,     1,     1,     1,     1,     1,     1,\n",
       "             1,     1,     1,     1,     2,     1],\n",
       "        [    0, 45641,    35,   910,     1,     1,     1,     1,     1,     1,\n",
       "             1,     1,     1,     1,     2,     1],\n",
       "        [    0, 45641,    35,   364,     1,     1,     1,     1,     1,     1,\n",
       "             1,     1,     1,     1,     2,     1],\n",
       "        [    0, 45641,    35,  1437,  1437,     1,     1,     1,     1,     1,\n",
       "             1,     1,     1,     1,     1,     2],\n",
       "        [    0, 45641,    35,   579,     1,     1,     1,     1,     1,     1,\n",
       "             1,     1,     1,     1,     2,     1],\n",
       "        [    0, 45641,    35,   364,     1,     1,     1,     1,     1,     1,\n",
       "             1,     1,     1,     1,     2,     1],\n",
       "        [    0, 45641,    35,   740,     1,     1,     1,     1,     1,     1,\n",
       "             1,     1,     1,     1,     2,     1],\n",
       "        [    0, 45641,    35,   326,     1,     1,     1,     1,     1,     1,\n",
       "             1,     1,     1,     1,     2,     1],\n",
       "        [    0, 45641,    35,  1021,     1,     1,     1,     1,     1,     1,\n",
       "             1,     1,     1,     1,     2,     1],\n",
       "        [    0, 45641,    35,   910,     1,     1,     1,     1,     1,     1,\n",
       "             1,     1,     1,     1,     2,     1],\n",
       "        [    0, 45641,    35, 17487,     1,     1,     1,     1,     1,     1,\n",
       "             1,     1,     1,     1,     2,     1]]), 'attention_mask': tensor([[1, 1, 1, 1, 1, 1, 1, 1, 1, 1, 1, 1, 1, 1, 1, 0],\n",
       "        [1, 1, 1, 1, 1, 1, 1, 1, 1, 1, 1, 1, 1, 1, 1, 0],\n",
       "        [1, 1, 1, 1, 1, 1, 1, 1, 1, 1, 1, 1, 1, 1, 1, 0],\n",
       "        [1, 1, 1, 1, 1, 1, 1, 1, 1, 1, 1, 1, 1, 1, 1, 0],\n",
       "        [1, 1, 1, 1, 1, 1, 1, 1, 1, 1, 1, 1, 1, 1, 1, 1],\n",
       "        [1, 1, 1, 1, 1, 1, 1, 1, 1, 1, 1, 1, 1, 1, 1, 0],\n",
       "        [1, 1, 1, 1, 1, 1, 1, 1, 1, 1, 1, 1, 1, 1, 1, 0],\n",
       "        [1, 1, 1, 1, 1, 1, 1, 1, 1, 1, 1, 1, 1, 1, 1, 0],\n",
       "        [1, 1, 1, 1, 1, 1, 1, 1, 1, 1, 1, 1, 1, 1, 1, 0],\n",
       "        [1, 1, 1, 1, 1, 1, 1, 1, 1, 1, 1, 1, 1, 1, 1, 0],\n",
       "        [1, 1, 1, 1, 1, 1, 1, 1, 1, 1, 1, 1, 1, 1, 1, 0],\n",
       "        [1, 1, 1, 1, 1, 1, 1, 1, 1, 1, 1, 1, 1, 1, 1, 0],\n",
       "        [1, 1, 1, 1, 1, 1, 1, 1, 1, 1, 1, 1, 1, 1, 1, 0],\n",
       "        [1, 1, 1, 1, 1, 1, 1, 1, 1, 1, 1, 1, 1, 1, 1, 0],\n",
       "        [1, 1, 1, 1, 1, 1, 1, 1, 1, 1, 1, 1, 1, 1, 1, 0],\n",
       "        [1, 1, 1, 1, 1, 1, 1, 1, 1, 1, 1, 1, 1, 1, 1, 1],\n",
       "        [1, 1, 1, 1, 1, 1, 1, 1, 1, 1, 1, 1, 1, 1, 1, 0],\n",
       "        [1, 1, 1, 1, 1, 1, 1, 1, 1, 1, 1, 1, 1, 1, 1, 0],\n",
       "        [1, 1, 1, 1, 1, 1, 1, 1, 1, 1, 1, 1, 1, 1, 1, 1],\n",
       "        [1, 1, 1, 1, 1, 1, 1, 1, 1, 1, 1, 1, 1, 1, 1, 0],\n",
       "        [1, 1, 1, 1, 1, 1, 1, 1, 1, 1, 1, 1, 1, 1, 1, 0],\n",
       "        [1, 1, 1, 1, 1, 1, 1, 1, 1, 1, 1, 1, 1, 1, 1, 0],\n",
       "        [1, 1, 1, 1, 1, 1, 1, 1, 1, 1, 1, 1, 1, 1, 1, 0],\n",
       "        [1, 1, 1, 1, 1, 1, 1, 1, 1, 1, 1, 1, 1, 1, 1, 0],\n",
       "        [1, 1, 1, 1, 1, 1, 1, 1, 1, 1, 1, 1, 1, 1, 1, 0],\n",
       "        [1, 1, 1, 1, 1, 1, 1, 1, 1, 1, 1, 1, 1, 1, 1, 1],\n",
       "        [1, 1, 1, 1, 1, 1, 1, 1, 1, 1, 1, 1, 1, 1, 1, 0],\n",
       "        [1, 1, 1, 1, 1, 1, 1, 1, 1, 1, 1, 1, 1, 1, 1, 0],\n",
       "        [1, 1, 1, 1, 1, 1, 1, 1, 1, 1, 1, 1, 1, 1, 1, 0],\n",
       "        [1, 1, 1, 1, 1, 1, 1, 1, 1, 1, 1, 1, 1, 1, 1, 0],\n",
       "        [1, 1, 1, 1, 1, 1, 1, 1, 1, 1, 1, 1, 1, 1, 1, 1],\n",
       "        [1, 1, 1, 1, 1, 1, 1, 1, 1, 1, 1, 1, 1, 1, 1, 0],\n",
       "        [1, 1, 1, 1, 1, 1, 1, 1, 1, 1, 1, 1, 1, 1, 1, 0],\n",
       "        [1, 1, 1, 1, 1, 1, 1, 1, 1, 1, 1, 1, 1, 1, 1, 0],\n",
       "        [1, 1, 1, 1, 1, 1, 1, 1, 1, 1, 1, 1, 1, 1, 1, 0],\n",
       "        [1, 1, 1, 1, 1, 1, 1, 1, 1, 1, 1, 1, 1, 1, 1, 1],\n",
       "        [1, 1, 1, 1, 1, 1, 1, 1, 1, 1, 1, 1, 1, 1, 1, 0],\n",
       "        [1, 1, 1, 1, 1, 1, 1, 1, 1, 1, 1, 1, 1, 1, 1, 0],\n",
       "        [1, 1, 1, 1, 1, 1, 1, 1, 1, 1, 1, 1, 1, 1, 1, 0],\n",
       "        [1, 1, 1, 1, 1, 1, 1, 1, 1, 1, 1, 1, 1, 1, 1, 0],\n",
       "        [1, 1, 1, 1, 1, 1, 1, 1, 1, 1, 1, 1, 1, 1, 1, 0],\n",
       "        [1, 1, 1, 1, 1, 1, 1, 1, 1, 1, 1, 1, 1, 1, 1, 0],\n",
       "        [1, 1, 1, 1, 1, 1, 1, 1, 1, 1, 1, 1, 1, 1, 1, 0],\n",
       "        [1, 1, 1, 1, 1, 1, 1, 1, 1, 1, 1, 1, 1, 1, 1, 0],\n",
       "        [1, 1, 1, 1, 1, 1, 1, 1, 1, 1, 1, 1, 1, 1, 1, 0],\n",
       "        [1, 1, 1, 1, 1, 1, 1, 1, 1, 1, 1, 1, 1, 1, 1, 0],\n",
       "        [1, 1, 1, 1, 1, 1, 1, 1, 1, 1, 1, 1, 1, 1, 1, 0],\n",
       "        [1, 1, 1, 1, 1, 1, 1, 1, 1, 1, 1, 1, 1, 1, 1, 1],\n",
       "        [1, 1, 1, 1, 1, 1, 1, 1, 1, 1, 1, 1, 1, 1, 1, 0],\n",
       "        [1, 1, 1, 1, 1, 1, 1, 1, 1, 1, 1, 1, 1, 1, 1, 0],\n",
       "        [1, 1, 1, 1, 1, 1, 1, 1, 1, 1, 1, 1, 1, 1, 1, 0],\n",
       "        [1, 1, 1, 1, 1, 1, 1, 1, 1, 1, 1, 1, 1, 1, 1, 0],\n",
       "        [1, 1, 1, 1, 1, 1, 1, 1, 1, 1, 1, 1, 1, 1, 1, 0],\n",
       "        [1, 1, 1, 1, 1, 1, 1, 1, 1, 1, 1, 1, 1, 1, 1, 0],\n",
       "        [1, 1, 1, 1, 1, 1, 1, 1, 1, 1, 1, 1, 1, 1, 1, 0]])}"
      ]
     },
     "execution_count": 52,
     "metadata": {},
     "output_type": "execute_result"
    }
   ],
   "source": [
    "text_embed"
   ]
  },
  {
   "cell_type": "code",
   "execution_count": null,
   "metadata": {},
   "outputs": [],
   "source": []
  },
  {
   "cell_type": "markdown",
   "metadata": {},
   "source": [
    "## ColQwen2"
   ]
  },
  {
   "cell_type": "code",
   "execution_count": 2,
   "metadata": {},
   "outputs": [
    {
     "name": "stdout",
     "output_type": "stream",
     "text": [
      "Using device: cuda:0\n"
     ]
    },
    {
     "name": "stderr",
     "output_type": "stream",
     "text": [
      "`Qwen2VLRotaryEmbedding` can now be fully parameterized by passing the model config through the `config` argument. All other arguments will be removed in v4.46\n"
     ]
    },
    {
     "data": {
      "application/vnd.jupyter.widget-view+json": {
       "model_id": "8573fc6d19324639b4874b8c03ae3deb",
       "version_major": 2,
       "version_minor": 0
      },
      "text/plain": [
       "Loading checkpoint shards:   0%|          | 0/2 [00:00<?, ?it/s]"
      ]
     },
     "metadata": {},
     "output_type": "display_data"
    }
   ],
   "source": [
    "from flask import Flask, request, jsonify\n",
    "from typing import Any, List, cast\n",
    "import h5py\n",
    "import structlog\n",
    "from colpali_engine.utils.torch_utils import get_torch_device\n",
    "from peft import LoraConfig\n",
    "from PIL import Image\n",
    "from colqwen2 import ColQwen2ForRAG\n",
    "from colpali_engine.models import ColQwen2, ColQwen2Processor\n",
    "from transformers.models.qwen2_vl import Qwen2VLForConditionalGeneration, Qwen2VLProcessor\n",
    "import torch\n",
    "import os\n",
    "from app import process_pdf, store_vector, scale_image, processor_retrieval, model, processor_generation\n",
    "from pdf2image import convert_from_path\n",
    "import numpy as np\n",
    "device = get_torch_device(\"auto\")"
   ]
  },
  {
   "cell_type": "code",
   "execution_count": 2,
   "metadata": {},
   "outputs": [],
   "source": [
    "pdf_path = r\"F:\\MS files\\Course\\CS7290\\project\\VisionRAG\\asset\\Chubb-Limited-Investor-Presentation-December-2023-short.pdf\"\n",
    "images, pages = process_pdf(pdf_path)\n",
    "store_vector(\"Chubb-Limited-Investor-Presentation-December-2023-short.pdf\", pages, images)"
   ]
  },
  {
   "cell_type": "code",
   "execution_count": 5,
   "metadata": {},
   "outputs": [
    {
     "data": {
      "text/plain": [
       "(1, 17, 128)"
      ]
     },
     "execution_count": 5,
     "metadata": {},
     "output_type": "execute_result"
    }
   ],
   "source": [
    "query = \"Contribution of agriculture sector?\"\n",
    "\n",
    "data = processor_retrieval.process_queries([query])\n",
    "with torch.no_grad():\n",
    "    batch_doc = {k: v.to(model.device) for k, v in data.items()}\n",
    "    embeddings_doc = model(**batch_doc)\n",
    "\n",
    "embeddings_doc = embeddings_doc.cpu().float().numpy()\n",
    "embeddings_doc.shape   \n",
    "\n"
   ]
  },
  {
   "cell_type": "code",
   "execution_count": 3,
   "metadata": {},
   "outputs": [
    {
     "data": {
      "text/plain": [
       "((3, 35, 128), (3, 125, 161, 3))"
      ]
     },
     "execution_count": 3,
     "metadata": {},
     "output_type": "execute_result"
    }
   ],
   "source": [
    "def get_data_by_filename(filename):\n",
    "    with h5py.File(os.path.join('data','knowledge_base.h5'), 'r') as f:\n",
    "        if filename in f:\n",
    "            return f[filename]['vector'][()], f[filename]['image'][()]\n",
    "    return None\n",
    "\n",
    "image_embedding, images = get_data_by_filename(\"Chubb-Limited-Investor-Presentation-December-2023-short.pdf\")\n",
    "image_embedding.shape, images.shape"
   ]
  },
  {
   "cell_type": "code",
   "execution_count": 6,
   "metadata": {},
   "outputs": [
    {
     "data": {
      "text/plain": [
       "array([2], dtype=int64)"
      ]
     },
     "execution_count": 6,
     "metadata": {},
     "output_type": "execute_result"
    }
   ],
   "source": [
    "scores = processor_retrieval.score_multi_vector(torch.from_numpy(embeddings_doc), torch.from_numpy(image_embedding))\n",
    "\n",
    "top_pages = scores.numpy()[0].argsort()[-1:][::-1]\n",
    "top_pages"
   ]
  },
  {
   "cell_type": "code",
   "execution_count": 7,
   "metadata": {},
   "outputs": [
    {
     "data": {
      "image/png": "[encoded data removed]",
      "text/plain": [
       "<Figure size 640x480 with 1 Axes>"
      ]
     },
     "metadata": {},
     "output_type": "display_data"
    }
   ],
   "source": [
    "import matplotlib.pyplot as plt\n",
    "for i in images[top_pages]:\n",
    "    plt.imshow(i)\n",
    "    plt.show()"
   ]
  },
  {
   "cell_type": "code",
   "execution_count": 8,
   "metadata": {},
   "outputs": [
    {
     "data": {
      "text/plain": [
       "(1, 125, 161, 3)"
      ]
     },
     "execution_count": 8,
     "metadata": {},
     "output_type": "execute_result"
    }
   ],
   "source": [
    "images[top_pages].shape"
   ]
  },
  {
   "cell_type": "code",
   "execution_count": 9,
   "metadata": {},
   "outputs": [
    {
     "name": "stdout",
     "output_type": "stream",
     "text": [
      "DoNE\n",
      "DoNE\n",
      "DoNE\n",
      "DoNE\n",
      "['The agriculture sector contributes to the GDP of Chad.']\n"
     ]
    }
   ],
   "source": [
    "conversation = [\n",
    "    {\n",
    "        \"role\": \"user\",\n",
    "        \"content\": [\n",
    "            {\n",
    "                \"type\": \"image\",\n",
    "            },\n",
    "            {\n",
    "                \"type\": \"text\",\n",
    "                \"text\": f\"Answer the following question using the input image: {query}\",\n",
    "            },\n",
    "        ],\n",
    "    }\n",
    "]\n",
    "text_prompt = processor_generation.apply_chat_template(conversation, add_generation_prompt=True)\n",
    "inputs_generation = processor_generation(\n",
    "    text=[text_prompt],\n",
    "    images=[images[top_pages][0]],\n",
    "    padding=True,\n",
    "    return_tensors=\"pt\",\n",
    ").to(device)\n",
    "\n",
    "# Generate the RAG response\n",
    "model.enable_generation()\n",
    "print('DoNE')\n",
    "output_ids = model.generate(**inputs_generation, max_new_tokens=50)\n",
    "print('DoNE')\n",
    "\n",
    "# Ensure that only the newly generated token IDs are retained from output_ids\n",
    "generated_ids = [output_ids[len(input_ids) :] for input_ids, output_ids in zip(inputs_generation.input_ids, output_ids)]\n",
    "print('DoNE')\n",
    "\n",
    "# Decode the RAG response\n",
    "output_text = processor_generation.batch_decode(\n",
    "    generated_ids,\n",
    "    skip_special_tokens=True,\n",
    "    clean_up_tokenization_spaces=True,\n",
    ")\n",
    "print('DoNE')\n",
    "\n",
    "print(output_text)"
   ]
  },
  {
   "cell_type": "code",
   "execution_count": null,
   "metadata": {},
   "outputs": [],
   "source": []
  }
 ],
 "metadata": {
  "kernelspec": {
   "display_name": "COLFLOR",
   "language": "python",
   "name": "python3"
  },
  "language_info": {
   "codemirror_mode": {
    "name": "ipython",
    "version": 3
   },
   "file_extension": ".py",
   "mimetype": "text/x-python",
   "name": "python",
   "nbconvert_exporter": "python",
   "pygments_lexer": "ipython3",
   "version": "3.13.2"
  }
 },
 "nbformat": 4,
 "nbformat_minor": 4
}
