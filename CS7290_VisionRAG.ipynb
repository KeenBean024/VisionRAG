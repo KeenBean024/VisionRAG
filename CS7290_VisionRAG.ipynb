{
  "nbformat": 4,
  "nbformat_minor": 0,
  "metadata": {
    "colab": {
      "provenance": [],
      "gpuType": "T4",
      "authorship_tag": "ABX9TyPBS/DqgKHUeOIV4O0oRWUF",
      "include_colab_link": true
    },
    "kernelspec": {
      "name": "python3",
      "display_name": "Python 3"
    },
    "language_info": {
      "name": "python"
    },
    "accelerator": "GPU",
    "widgets": {
      "application/vnd.jupyter.widget-state+json": {
        "de65855fc1a54060b84112f3b5cc2427": {
          "model_module": "@jupyter-widgets/controls",
          "model_name": "DropdownModel",
          "model_module_version": "1.5.0",
          "state": {
            "_dom_classes": [],
            "_model_module": "@jupyter-widgets/controls",
            "_model_module_version": "1.5.0",
            "_model_name": "DropdownModel",
            "_options_labels": [
              "Chubb-Limited-Investor-Presentation-December-2023-short.pdf",
              "Chubb-Limited-Investor-Presentation-December-2023.pdf"
            ],
            "_view_count": null,
            "_view_module": "@jupyter-widgets/controls",
            "_view_module_version": "1.5.0",
            "_view_name": "DropdownView",
            "description": "Select File:",
            "description_tooltip": null,
            "disabled": false,
            "index": 0,
            "layout": "IPY_MODEL_6cd2bfef0aa84147a3343fc7868f8e0b",
            "style": "IPY_MODEL_3a0ea0b219144ad4873f2d99fef90dde"
          }
        },
        "6cd2bfef0aa84147a3343fc7868f8e0b": {
          "model_module": "@jupyter-widgets/base",
          "model_name": "LayoutModel",
          "model_module_version": "1.2.0",
          "state": {
            "_model_module": "@jupyter-widgets/base",
            "_model_module_version": "1.2.0",
            "_model_name": "LayoutModel",
            "_view_count": null,
            "_view_module": "@jupyter-widgets/base",
            "_view_module_version": "1.2.0",
            "_view_name": "LayoutView",
            "align_content": null,
            "align_items": null,
            "align_self": null,
            "border": null,
            "bottom": null,
            "display": null,
            "flex": null,
            "flex_flow": null,
            "grid_area": null,
            "grid_auto_columns": null,
            "grid_auto_flow": null,
            "grid_auto_rows": null,
            "grid_column": null,
            "grid_gap": null,
            "grid_row": null,
            "grid_template_areas": null,
            "grid_template_columns": null,
            "grid_template_rows": null,
            "height": null,
            "justify_content": null,
            "justify_items": null,
            "left": null,
            "margin": null,
            "max_height": null,
            "max_width": null,
            "min_height": null,
            "min_width": null,
            "object_fit": null,
            "object_position": null,
            "order": null,
            "overflow": null,
            "overflow_x": null,
            "overflow_y": null,
            "padding": null,
            "right": null,
            "top": null,
            "visibility": null,
            "width": null
          }
        },
        "3a0ea0b219144ad4873f2d99fef90dde": {
          "model_module": "@jupyter-widgets/controls",
          "model_name": "DescriptionStyleModel",
          "model_module_version": "1.5.0",
          "state": {
            "_model_module": "@jupyter-widgets/controls",
            "_model_module_version": "1.5.0",
            "_model_name": "DescriptionStyleModel",
            "_view_count": null,
            "_view_module": "@jupyter-widgets/base",
            "_view_module_version": "1.2.0",
            "_view_name": "StyleView",
            "description_width": ""
          }
        },
        "48906f905c1f4993a63629a1b416bb7e": {
          "model_module": "@jupyter-widgets/controls",
          "model_name": "TextModel",
          "model_module_version": "1.5.0",
          "state": {
            "_dom_classes": [],
            "_model_module": "@jupyter-widgets/controls",
            "_model_module_version": "1.5.0",
            "_model_name": "TextModel",
            "_view_count": null,
            "_view_module": "@jupyter-widgets/controls",
            "_view_module_version": "1.5.0",
            "_view_name": "TextView",
            "continuous_update": true,
            "description": "Input Query:",
            "description_tooltip": null,
            "disabled": false,
            "layout": "IPY_MODEL_1ddfc46b1d5b405db93954963d0e190c",
            "placeholder": "​",
            "style": "IPY_MODEL_b4914869c7594741ab7a715067fa2a07",
            "value": ""
          }
        },
        "1ddfc46b1d5b405db93954963d0e190c": {
          "model_module": "@jupyter-widgets/base",
          "model_name": "LayoutModel",
          "model_module_version": "1.2.0",
          "state": {
            "_model_module": "@jupyter-widgets/base",
            "_model_module_version": "1.2.0",
            "_model_name": "LayoutModel",
            "_view_count": null,
            "_view_module": "@jupyter-widgets/base",
            "_view_module_version": "1.2.0",
            "_view_name": "LayoutView",
            "align_content": null,
            "align_items": null,
            "align_self": null,
            "border": null,
            "bottom": null,
            "display": null,
            "flex": null,
            "flex_flow": null,
            "grid_area": null,
            "grid_auto_columns": null,
            "grid_auto_flow": null,
            "grid_auto_rows": null,
            "grid_column": null,
            "grid_gap": null,
            "grid_row": null,
            "grid_template_areas": null,
            "grid_template_columns": null,
            "grid_template_rows": null,
            "height": null,
            "justify_content": null,
            "justify_items": null,
            "left": null,
            "margin": null,
            "max_height": null,
            "max_width": null,
            "min_height": null,
            "min_width": null,
            "object_fit": null,
            "object_position": null,
            "order": null,
            "overflow": null,
            "overflow_x": null,
            "overflow_y": null,
            "padding": null,
            "right": null,
            "top": null,
            "visibility": null,
            "width": null
          }
        },
        "b4914869c7594741ab7a715067fa2a07": {
          "model_module": "@jupyter-widgets/controls",
          "model_name": "DescriptionStyleModel",
          "model_module_version": "1.5.0",
          "state": {
            "_model_module": "@jupyter-widgets/controls",
            "_model_module_version": "1.5.0",
            "_model_name": "DescriptionStyleModel",
            "_view_count": null,
            "_view_module": "@jupyter-widgets/base",
            "_view_module_version": "1.2.0",
            "_view_name": "StyleView",
            "description_width": ""
          }
        },
        "07a0453c1d1843b8a6e1415880bf7e32": {
          "model_module": "@jupyter-widgets/controls",
          "model_name": "ButtonModel",
          "model_module_version": "1.5.0",
          "state": {
            "_dom_classes": [],
            "_model_module": "@jupyter-widgets/controls",
            "_model_module_version": "1.5.0",
            "_model_name": "ButtonModel",
            "_view_count": null,
            "_view_module": "@jupyter-widgets/controls",
            "_view_module_version": "1.5.0",
            "_view_name": "ButtonView",
            "button_style": "",
            "description": "Submit",
            "disabled": false,
            "icon": "",
            "layout": "IPY_MODEL_1ef3032bb9394188ad9abc363960950e",
            "style": "IPY_MODEL_76fde9d9163c492f9de63eb63a4560dd",
            "tooltip": ""
          }
        },
        "1ef3032bb9394188ad9abc363960950e": {
          "model_module": "@jupyter-widgets/base",
          "model_name": "LayoutModel",
          "model_module_version": "1.2.0",
          "state": {
            "_model_module": "@jupyter-widgets/base",
            "_model_module_version": "1.2.0",
            "_model_name": "LayoutModel",
            "_view_count": null,
            "_view_module": "@jupyter-widgets/base",
            "_view_module_version": "1.2.0",
            "_view_name": "LayoutView",
            "align_content": null,
            "align_items": null,
            "align_self": null,
            "border": null,
            "bottom": null,
            "display": null,
            "flex": null,
            "flex_flow": null,
            "grid_area": null,
            "grid_auto_columns": null,
            "grid_auto_flow": null,
            "grid_auto_rows": null,
            "grid_column": null,
            "grid_gap": null,
            "grid_row": null,
            "grid_template_areas": null,
            "grid_template_columns": null,
            "grid_template_rows": null,
            "height": null,
            "justify_content": null,
            "justify_items": null,
            "left": null,
            "margin": null,
            "max_height": null,
            "max_width": null,
            "min_height": null,
            "min_width": null,
            "object_fit": null,
            "object_position": null,
            "order": null,
            "overflow": null,
            "overflow_x": null,
            "overflow_y": null,
            "padding": null,
            "right": null,
            "top": null,
            "visibility": null,
            "width": null
          }
        },
        "76fde9d9163c492f9de63eb63a4560dd": {
          "model_module": "@jupyter-widgets/controls",
          "model_name": "ButtonStyleModel",
          "model_module_version": "1.5.0",
          "state": {
            "_model_module": "@jupyter-widgets/controls",
            "_model_module_version": "1.5.0",
            "_model_name": "ButtonStyleModel",
            "_view_count": null,
            "_view_module": "@jupyter-widgets/base",
            "_view_module_version": "1.2.0",
            "_view_name": "StyleView",
            "button_color": null,
            "font_weight": ""
          }
        }
      }
    }
  },
  "cells": [
    {
      "cell_type": "markdown",
      "metadata": {
        "id": "view-in-github",
        "colab_type": "text"
      },
      "source": [
        "<a href=\"https://colab.research.google.com/github/KeenBean024/VisionRAG/blob/main/CS7290_VisionRAG.ipynb\" target=\"_parent\"><img src=\"https://colab.research.google.com/assets/colab-badge.svg\" alt=\"Open In Colab\"/></a>"
      ]
    },
    {
      "cell_type": "code",
      "source": [
        "!sudo apt-get update\n",
        "!apt-get install poppler-utils\n",
        "!pip install colpali-engine\n",
        "!pip install pdf2image\n"
      ],
      "metadata": {
        "colab": {
          "base_uri": "https://localhost:8080/"
        },
        "id": "fTu_iCUNyFuT",
        "outputId": "0c6562e8-38ab-42f2-d22c-3680d45a631f"
      },
      "execution_count": 1,
      "outputs": [
        {
          "output_type": "stream",
          "name": "stdout",
          "text": [
            "Get:1 http://security.ubuntu.com/ubuntu jammy-security InRelease [129 kB]\n",
            "Get:2 https://cloud.r-project.org/bin/linux/ubuntu jammy-cran40/ InRelease [3,632 B]\n",
            "Get:3 https://developer.download.nvidia.com/compute/cuda/repos/ubuntu2204/x86_64  InRelease [1,581 B]\n",
            "Hit:4 http://archive.ubuntu.com/ubuntu jammy InRelease\n",
            "Get:5 https://r2u.stat.illinois.edu/ubuntu jammy InRelease [6,555 B]\n",
            "Get:6 http://archive.ubuntu.com/ubuntu jammy-updates InRelease [128 kB]\n",
            "Get:7 http://archive.ubuntu.com/ubuntu jammy-backports InRelease [127 kB]\n",
            "Get:8 https://ppa.launchpadcontent.net/deadsnakes/ppa/ubuntu jammy InRelease [18.1 kB]\n",
            "Get:9 https://ppa.launchpadcontent.net/graphics-drivers/ppa/ubuntu jammy InRelease [24.3 kB]\n",
            "Hit:10 https://ppa.launchpadcontent.net/ubuntugis/ppa/ubuntu jammy InRelease\n",
            "Get:11 https://developer.download.nvidia.com/compute/cuda/repos/ubuntu2204/x86_64  Packages [1,375 kB]\n",
            "Get:12 https://r2u.stat.illinois.edu/ubuntu jammy/main all Packages [8,748 kB]\n",
            "Get:13 http://security.ubuntu.com/ubuntu jammy-security/restricted amd64 Packages [3,798 kB]\n",
            "Get:14 http://security.ubuntu.com/ubuntu jammy-security/main amd64 Packages [2,692 kB]\n",
            "Get:15 http://archive.ubuntu.com/ubuntu jammy-updates/main amd64 Packages [3,000 kB]\n",
            "Get:16 https://r2u.stat.illinois.edu/ubuntu jammy/main amd64 Packages [2,673 kB]\n",
            "Get:17 http://archive.ubuntu.com/ubuntu jammy-updates/universe amd64 Packages [1,533 kB]\n",
            "Get:18 https://ppa.launchpadcontent.net/deadsnakes/ppa/ubuntu jammy/main amd64 Packages [33.6 kB]\n",
            "Get:19 https://ppa.launchpadcontent.net/graphics-drivers/ppa/ubuntu jammy/main amd64 Packages [46.8 kB]\n",
            "Fetched 24.3 MB in 9s (2,650 kB/s)\n",
            "Reading package lists... Done\n",
            "W: Skipping acquire of configured file 'main/source/Sources' as repository 'https://r2u.stat.illinois.edu/ubuntu jammy InRelease' does not seem to provide it (sources.list entry misspelt?)\n",
            "Reading package lists... Done\n",
            "Building dependency tree... Done\n",
            "Reading state information... Done\n",
            "The following NEW packages will be installed:\n",
            "  poppler-utils\n",
            "0 upgraded, 1 newly installed, 0 to remove and 29 not upgraded.\n",
            "Need to get 186 kB of archives.\n",
            "After this operation, 696 kB of additional disk space will be used.\n",
            "Get:1 http://archive.ubuntu.com/ubuntu jammy-updates/main amd64 poppler-utils amd64 22.02.0-2ubuntu0.6 [186 kB]\n",
            "Fetched 186 kB in 0s (402 kB/s)\n",
            "Selecting previously unselected package poppler-utils.\n",
            "(Reading database ... 125044 files and directories currently installed.)\n",
            "Preparing to unpack .../poppler-utils_22.02.0-2ubuntu0.6_amd64.deb ...\n",
            "Unpacking poppler-utils (22.02.0-2ubuntu0.6) ...\n",
            "Setting up poppler-utils (22.02.0-2ubuntu0.6) ...\n",
            "Processing triggers for man-db (2.10.2-1) ...\n",
            "Collecting colpali-engine\n",
            "  Downloading colpali_engine-0.3.8-py3-none-any.whl.metadata (27 kB)\n",
            "Collecting gputil (from colpali-engine)\n",
            "  Downloading GPUtil-1.4.0.tar.gz (5.5 kB)\n",
            "  Preparing metadata (setup.py) ... \u001b[?25l\u001b[?25hdone\n",
            "Requirement already satisfied: numpy in /usr/local/lib/python3.11/dist-packages (from colpali-engine) (1.26.4)\n",
            "Requirement already satisfied: peft<0.15.0,>=0.14.0 in /usr/local/lib/python3.11/dist-packages (from colpali-engine) (0.14.0)\n",
            "Requirement already satisfied: pillow>=10.0.0 in /usr/local/lib/python3.11/dist-packages (from colpali-engine) (11.1.0)\n",
            "Requirement already satisfied: requests in /usr/local/lib/python3.11/dist-packages (from colpali-engine) (2.32.3)\n",
            "Requirement already satisfied: torch>=2.2.0 in /usr/local/lib/python3.11/dist-packages (from colpali-engine) (2.6.0+cu124)\n",
            "Collecting transformers<4.48.0,>=4.47.0 (from colpali-engine)\n",
            "  Downloading transformers-4.47.1-py3-none-any.whl.metadata (44 kB)\n",
            "\u001b[2K     \u001b[90m━━━━━━━━━━━━━━━━━━━━━━━━━━━━━━━━━━━━━━━━\u001b[0m \u001b[32m44.1/44.1 kB\u001b[0m \u001b[31m2.9 MB/s\u001b[0m eta \u001b[36m0:00:00\u001b[0m\n",
            "\u001b[?25hRequirement already satisfied: packaging>=20.0 in /usr/local/lib/python3.11/dist-packages (from peft<0.15.0,>=0.14.0->colpali-engine) (24.2)\n",
            "Requirement already satisfied: psutil in /usr/local/lib/python3.11/dist-packages (from peft<0.15.0,>=0.14.0->colpali-engine) (5.9.5)\n",
            "Requirement already satisfied: pyyaml in /usr/local/lib/python3.11/dist-packages (from peft<0.15.0,>=0.14.0->colpali-engine) (6.0.2)\n",
            "Requirement already satisfied: tqdm in /usr/local/lib/python3.11/dist-packages (from peft<0.15.0,>=0.14.0->colpali-engine) (4.67.1)\n",
            "Requirement already satisfied: accelerate>=0.21.0 in /usr/local/lib/python3.11/dist-packages (from peft<0.15.0,>=0.14.0->colpali-engine) (1.3.0)\n",
            "Requirement already satisfied: safetensors in /usr/local/lib/python3.11/dist-packages (from peft<0.15.0,>=0.14.0->colpali-engine) (0.5.3)\n",
            "Requirement already satisfied: huggingface-hub>=0.25.0 in /usr/local/lib/python3.11/dist-packages (from peft<0.15.0,>=0.14.0->colpali-engine) (0.28.1)\n",
            "Requirement already satisfied: filelock in /usr/local/lib/python3.11/dist-packages (from torch>=2.2.0->colpali-engine) (3.17.0)\n",
            "Requirement already satisfied: typing-extensions>=4.10.0 in /usr/local/lib/python3.11/dist-packages (from torch>=2.2.0->colpali-engine) (4.12.2)\n",
            "Requirement already satisfied: networkx in /usr/local/lib/python3.11/dist-packages (from torch>=2.2.0->colpali-engine) (3.4.2)\n",
            "Requirement already satisfied: jinja2 in /usr/local/lib/python3.11/dist-packages (from torch>=2.2.0->colpali-engine) (3.1.6)\n",
            "Requirement already satisfied: fsspec in /usr/local/lib/python3.11/dist-packages (from torch>=2.2.0->colpali-engine) (2024.10.0)\n",
            "Collecting nvidia-cuda-nvrtc-cu12==12.4.127 (from torch>=2.2.0->colpali-engine)\n",
            "  Downloading nvidia_cuda_nvrtc_cu12-12.4.127-py3-none-manylinux2014_x86_64.whl.metadata (1.5 kB)\n",
            "Collecting nvidia-cuda-runtime-cu12==12.4.127 (from torch>=2.2.0->colpali-engine)\n",
            "  Downloading nvidia_cuda_runtime_cu12-12.4.127-py3-none-manylinux2014_x86_64.whl.metadata (1.5 kB)\n",
            "Collecting nvidia-cuda-cupti-cu12==12.4.127 (from torch>=2.2.0->colpali-engine)\n",
            "  Downloading nvidia_cuda_cupti_cu12-12.4.127-py3-none-manylinux2014_x86_64.whl.metadata (1.6 kB)\n",
            "Collecting nvidia-cudnn-cu12==9.1.0.70 (from torch>=2.2.0->colpali-engine)\n",
            "  Downloading nvidia_cudnn_cu12-9.1.0.70-py3-none-manylinux2014_x86_64.whl.metadata (1.6 kB)\n",
            "Collecting nvidia-cublas-cu12==12.4.5.8 (from torch>=2.2.0->colpali-engine)\n",
            "  Downloading nvidia_cublas_cu12-12.4.5.8-py3-none-manylinux2014_x86_64.whl.metadata (1.5 kB)\n",
            "Collecting nvidia-cufft-cu12==11.2.1.3 (from torch>=2.2.0->colpali-engine)\n",
            "  Downloading nvidia_cufft_cu12-11.2.1.3-py3-none-manylinux2014_x86_64.whl.metadata (1.5 kB)\n",
            "Collecting nvidia-curand-cu12==10.3.5.147 (from torch>=2.2.0->colpali-engine)\n",
            "  Downloading nvidia_curand_cu12-10.3.5.147-py3-none-manylinux2014_x86_64.whl.metadata (1.5 kB)\n",
            "Collecting nvidia-cusolver-cu12==11.6.1.9 (from torch>=2.2.0->colpali-engine)\n",
            "  Downloading nvidia_cusolver_cu12-11.6.1.9-py3-none-manylinux2014_x86_64.whl.metadata (1.6 kB)\n",
            "Collecting nvidia-cusparse-cu12==12.3.1.170 (from torch>=2.2.0->colpali-engine)\n",
            "  Downloading nvidia_cusparse_cu12-12.3.1.170-py3-none-manylinux2014_x86_64.whl.metadata (1.6 kB)\n",
            "Requirement already satisfied: nvidia-cusparselt-cu12==0.6.2 in /usr/local/lib/python3.11/dist-packages (from torch>=2.2.0->colpali-engine) (0.6.2)\n",
            "Requirement already satisfied: nvidia-nccl-cu12==2.21.5 in /usr/local/lib/python3.11/dist-packages (from torch>=2.2.0->colpali-engine) (2.21.5)\n",
            "Requirement already satisfied: nvidia-nvtx-cu12==12.4.127 in /usr/local/lib/python3.11/dist-packages (from torch>=2.2.0->colpali-engine) (12.4.127)\n",
            "Collecting nvidia-nvjitlink-cu12==12.4.127 (from torch>=2.2.0->colpali-engine)\n",
            "  Downloading nvidia_nvjitlink_cu12-12.4.127-py3-none-manylinux2014_x86_64.whl.metadata (1.5 kB)\n",
            "Requirement already satisfied: triton==3.2.0 in /usr/local/lib/python3.11/dist-packages (from torch>=2.2.0->colpali-engine) (3.2.0)\n",
            "Requirement already satisfied: sympy==1.13.1 in /usr/local/lib/python3.11/dist-packages (from torch>=2.2.0->colpali-engine) (1.13.1)\n",
            "Requirement already satisfied: mpmath<1.4,>=1.1.0 in /usr/local/lib/python3.11/dist-packages (from sympy==1.13.1->torch>=2.2.0->colpali-engine) (1.3.0)\n",
            "Requirement already satisfied: regex!=2019.12.17 in /usr/local/lib/python3.11/dist-packages (from transformers<4.48.0,>=4.47.0->colpali-engine) (2024.11.6)\n",
            "Requirement already satisfied: tokenizers<0.22,>=0.21 in /usr/local/lib/python3.11/dist-packages (from transformers<4.48.0,>=4.47.0->colpali-engine) (0.21.0)\n",
            "Requirement already satisfied: charset-normalizer<4,>=2 in /usr/local/lib/python3.11/dist-packages (from requests->colpali-engine) (3.4.1)\n",
            "Requirement already satisfied: idna<4,>=2.5 in /usr/local/lib/python3.11/dist-packages (from requests->colpali-engine) (3.10)\n",
            "Requirement already satisfied: urllib3<3,>=1.21.1 in /usr/local/lib/python3.11/dist-packages (from requests->colpali-engine) (2.3.0)\n",
            "Requirement already satisfied: certifi>=2017.4.17 in /usr/local/lib/python3.11/dist-packages (from requests->colpali-engine) (2025.1.31)\n",
            "Requirement already satisfied: MarkupSafe>=2.0 in /usr/local/lib/python3.11/dist-packages (from jinja2->torch>=2.2.0->colpali-engine) (3.0.2)\n",
            "Downloading colpali_engine-0.3.8-py3-none-any.whl (48 kB)\n",
            "\u001b[2K   \u001b[90m━━━━━━━━━━━━━━━━━━━━━━━━━━━━━━━━━━━━━━━━\u001b[0m \u001b[32m48.5/48.5 kB\u001b[0m \u001b[31m3.7 MB/s\u001b[0m eta \u001b[36m0:00:00\u001b[0m\n",
            "\u001b[?25hDownloading nvidia_cublas_cu12-12.4.5.8-py3-none-manylinux2014_x86_64.whl (363.4 MB)\n",
            "\u001b[2K   \u001b[90m━━━━━━━━━━━━━━━━━━━━━━━━━━━━━━━━━━━━━━━━\u001b[0m \u001b[32m363.4/363.4 MB\u001b[0m \u001b[31m4.0 MB/s\u001b[0m eta \u001b[36m0:00:00\u001b[0m\n",
            "\u001b[?25hDownloading nvidia_cuda_cupti_cu12-12.4.127-py3-none-manylinux2014_x86_64.whl (13.8 MB)\n",
            "\u001b[2K   \u001b[90m━━━━━━━━━━━━━━━━━━━━━━━━━━━━━━━━━━━━━━━━\u001b[0m \u001b[32m13.8/13.8 MB\u001b[0m \u001b[31m62.2 MB/s\u001b[0m eta \u001b[36m0:00:00\u001b[0m\n",
            "\u001b[?25hDownloading nvidia_cuda_nvrtc_cu12-12.4.127-py3-none-manylinux2014_x86_64.whl (24.6 MB)\n",
            "\u001b[2K   \u001b[90m━━━━━━━━━━━━━━━━━━━━━━━━━━━━━━━━━━━━━━━━\u001b[0m \u001b[32m24.6/24.6 MB\u001b[0m \u001b[31m15.3 MB/s\u001b[0m eta \u001b[36m0:00:00\u001b[0m\n",
            "\u001b[?25hDownloading nvidia_cuda_runtime_cu12-12.4.127-py3-none-manylinux2014_x86_64.whl (883 kB)\n",
            "\u001b[2K   \u001b[90m━━━━━━━━━━━━━━━━━━━━━━━━━━━━━━━━━━━━━━━━\u001b[0m \u001b[32m883.7/883.7 kB\u001b[0m \u001b[31m35.4 MB/s\u001b[0m eta \u001b[36m0:00:00\u001b[0m\n",
            "\u001b[?25hDownloading nvidia_cudnn_cu12-9.1.0.70-py3-none-manylinux2014_x86_64.whl (664.8 MB)\n",
            "\u001b[2K   \u001b[90m━━━━━━━━━━━━━━━━━━━━━━━━━━━━━━━━━━━━━━━━\u001b[0m \u001b[32m664.8/664.8 MB\u001b[0m \u001b[31m1.9 MB/s\u001b[0m eta \u001b[36m0:00:00\u001b[0m\n",
            "\u001b[?25hDownloading nvidia_cufft_cu12-11.2.1.3-py3-none-manylinux2014_x86_64.whl (211.5 MB)\n",
            "\u001b[2K   \u001b[90m━━━━━━━━━━━━━━━━━━━━━━━━━━━━━━━━━━━━━━━━\u001b[0m \u001b[32m211.5/211.5 MB\u001b[0m \u001b[31m5.4 MB/s\u001b[0m eta \u001b[36m0:00:00\u001b[0m\n",
            "\u001b[?25hDownloading nvidia_curand_cu12-10.3.5.147-py3-none-manylinux2014_x86_64.whl (56.3 MB)\n",
            "\u001b[2K   \u001b[90m━━━━━━━━━━━━━━━━━━━━━━━━━━━━━━━━━━━━━━━━\u001b[0m \u001b[32m56.3/56.3 MB\u001b[0m \u001b[31m12.5 MB/s\u001b[0m eta \u001b[36m0:00:00\u001b[0m\n",
            "\u001b[?25hDownloading nvidia_cusolver_cu12-11.6.1.9-py3-none-manylinux2014_x86_64.whl (127.9 MB)\n",
            "\u001b[2K   \u001b[90m━━━━━━━━━━━━━━━━━━━━━━━━━━━━━━━━━━━━━━━━\u001b[0m \u001b[32m127.9/127.9 MB\u001b[0m \u001b[31m8.2 MB/s\u001b[0m eta \u001b[36m0:00:00\u001b[0m\n",
            "\u001b[?25hDownloading nvidia_cusparse_cu12-12.3.1.170-py3-none-manylinux2014_x86_64.whl (207.5 MB)\n",
            "\u001b[2K   \u001b[90m━━━━━━━━━━━━━━━━━━━━━━━━━━━━━━━━━━━━━━━━\u001b[0m \u001b[32m207.5/207.5 MB\u001b[0m \u001b[31m5.5 MB/s\u001b[0m eta \u001b[36m0:00:00\u001b[0m\n",
            "\u001b[?25hDownloading nvidia_nvjitlink_cu12-12.4.127-py3-none-manylinux2014_x86_64.whl (21.1 MB)\n",
            "\u001b[2K   \u001b[90m━━━━━━━━━━━━━━━━━━━━━━━━━━━━━━━━━━━━━━━━\u001b[0m \u001b[32m21.1/21.1 MB\u001b[0m \u001b[31m69.6 MB/s\u001b[0m eta \u001b[36m0:00:00\u001b[0m\n",
            "\u001b[?25hDownloading transformers-4.47.1-py3-none-any.whl (10.1 MB)\n",
            "\u001b[2K   \u001b[90m━━━━━━━━━━━━━━━━━━━━━━━━━━━━━━━━━━━━━━━━\u001b[0m \u001b[32m10.1/10.1 MB\u001b[0m \u001b[31m79.1 MB/s\u001b[0m eta \u001b[36m0:00:00\u001b[0m\n",
            "\u001b[?25hBuilding wheels for collected packages: gputil\n",
            "  Building wheel for gputil (setup.py) ... \u001b[?25l\u001b[?25hdone\n",
            "  Created wheel for gputil: filename=GPUtil-1.4.0-py3-none-any.whl size=7392 sha256=9d3a6caace7e30977a86a2f332a49ba648827d0869a3930c4e37da94738042de\n",
            "  Stored in directory: /root/.cache/pip/wheels/2b/4d/8f/55fb4f7b9b591891e8d3f72977c4ec6c7763b39c19f0861595\n",
            "Successfully built gputil\n",
            "Installing collected packages: gputil, nvidia-nvjitlink-cu12, nvidia-curand-cu12, nvidia-cufft-cu12, nvidia-cuda-runtime-cu12, nvidia-cuda-nvrtc-cu12, nvidia-cuda-cupti-cu12, nvidia-cublas-cu12, nvidia-cusparse-cu12, nvidia-cudnn-cu12, nvidia-cusolver-cu12, transformers, colpali-engine\n",
            "  Attempting uninstall: nvidia-nvjitlink-cu12\n",
            "    Found existing installation: nvidia-nvjitlink-cu12 12.5.82\n",
            "    Uninstalling nvidia-nvjitlink-cu12-12.5.82:\n",
            "      Successfully uninstalled nvidia-nvjitlink-cu12-12.5.82\n",
            "  Attempting uninstall: nvidia-curand-cu12\n",
            "    Found existing installation: nvidia-curand-cu12 10.3.6.82\n",
            "    Uninstalling nvidia-curand-cu12-10.3.6.82:\n",
            "      Successfully uninstalled nvidia-curand-cu12-10.3.6.82\n",
            "  Attempting uninstall: nvidia-cufft-cu12\n",
            "    Found existing installation: nvidia-cufft-cu12 11.2.3.61\n",
            "    Uninstalling nvidia-cufft-cu12-11.2.3.61:\n",
            "      Successfully uninstalled nvidia-cufft-cu12-11.2.3.61\n",
            "  Attempting uninstall: nvidia-cuda-runtime-cu12\n",
            "    Found existing installation: nvidia-cuda-runtime-cu12 12.5.82\n",
            "    Uninstalling nvidia-cuda-runtime-cu12-12.5.82:\n",
            "      Successfully uninstalled nvidia-cuda-runtime-cu12-12.5.82\n",
            "  Attempting uninstall: nvidia-cuda-nvrtc-cu12\n",
            "    Found existing installation: nvidia-cuda-nvrtc-cu12 12.5.82\n",
            "    Uninstalling nvidia-cuda-nvrtc-cu12-12.5.82:\n",
            "      Successfully uninstalled nvidia-cuda-nvrtc-cu12-12.5.82\n",
            "  Attempting uninstall: nvidia-cuda-cupti-cu12\n",
            "    Found existing installation: nvidia-cuda-cupti-cu12 12.5.82\n",
            "    Uninstalling nvidia-cuda-cupti-cu12-12.5.82:\n",
            "      Successfully uninstalled nvidia-cuda-cupti-cu12-12.5.82\n",
            "  Attempting uninstall: nvidia-cublas-cu12\n",
            "    Found existing installation: nvidia-cublas-cu12 12.5.3.2\n",
            "    Uninstalling nvidia-cublas-cu12-12.5.3.2:\n",
            "      Successfully uninstalled nvidia-cublas-cu12-12.5.3.2\n",
            "  Attempting uninstall: nvidia-cusparse-cu12\n",
            "    Found existing installation: nvidia-cusparse-cu12 12.5.1.3\n",
            "    Uninstalling nvidia-cusparse-cu12-12.5.1.3:\n",
            "      Successfully uninstalled nvidia-cusparse-cu12-12.5.1.3\n",
            "  Attempting uninstall: nvidia-cudnn-cu12\n",
            "    Found existing installation: nvidia-cudnn-cu12 9.3.0.75\n",
            "    Uninstalling nvidia-cudnn-cu12-9.3.0.75:\n",
            "      Successfully uninstalled nvidia-cudnn-cu12-9.3.0.75\n",
            "  Attempting uninstall: nvidia-cusolver-cu12\n",
            "    Found existing installation: nvidia-cusolver-cu12 11.6.3.83\n",
            "    Uninstalling nvidia-cusolver-cu12-11.6.3.83:\n",
            "      Successfully uninstalled nvidia-cusolver-cu12-11.6.3.83\n",
            "  Attempting uninstall: transformers\n",
            "    Found existing installation: transformers 4.48.3\n",
            "    Uninstalling transformers-4.48.3:\n",
            "      Successfully uninstalled transformers-4.48.3\n",
            "Successfully installed colpali-engine-0.3.8 gputil-1.4.0 nvidia-cublas-cu12-12.4.5.8 nvidia-cuda-cupti-cu12-12.4.127 nvidia-cuda-nvrtc-cu12-12.4.127 nvidia-cuda-runtime-cu12-12.4.127 nvidia-cudnn-cu12-9.1.0.70 nvidia-cufft-cu12-11.2.1.3 nvidia-curand-cu12-10.3.5.147 nvidia-cusolver-cu12-11.6.1.9 nvidia-cusparse-cu12-12.3.1.170 nvidia-nvjitlink-cu12-12.4.127 transformers-4.47.1\n",
            "Collecting pdf2image\n",
            "  Downloading pdf2image-1.17.0-py3-none-any.whl.metadata (6.2 kB)\n",
            "Requirement already satisfied: pillow in /usr/local/lib/python3.11/dist-packages (from pdf2image) (11.1.0)\n",
            "Downloading pdf2image-1.17.0-py3-none-any.whl (11 kB)\n",
            "Installing collected packages: pdf2image\n",
            "Successfully installed pdf2image-1.17.0\n"
          ]
        }
      ]
    },
    {
      "cell_type": "code",
      "execution_count": 2,
      "metadata": {
        "id": "X7Tg7_T8xmlQ",
        "colab": {
          "base_uri": "https://localhost:8080/",
          "height": 385
        },
        "outputId": "17e9b383-a393-45bd-ce5e-6e6aea0939a5"
      },
      "outputs": [
        {
          "output_type": "error",
          "ename": "ModuleNotFoundError",
          "evalue": "No module named 'colpali_engine'",
          "traceback": [
            "\u001b[0;31m---------------------------------------------------------------------------\u001b[0m",
            "\u001b[0;31mModuleNotFoundError\u001b[0m                       Traceback (most recent call last)",
            "\u001b[0;32m<ipython-input-2-6c21de0629cf>\u001b[0m in \u001b[0;36m<cell line: 0>\u001b[0;34m()\u001b[0m\n\u001b[1;32m      2\u001b[0m \u001b[0;32mfrom\u001b[0m \u001b[0mtyping\u001b[0m \u001b[0;32mimport\u001b[0m \u001b[0mAny\u001b[0m\u001b[0;34m,\u001b[0m \u001b[0mList\u001b[0m\u001b[0;34m,\u001b[0m \u001b[0mcast\u001b[0m\u001b[0;34m\u001b[0m\u001b[0;34m\u001b[0m\u001b[0m\n\u001b[1;32m      3\u001b[0m \u001b[0;32mimport\u001b[0m \u001b[0mh5py\u001b[0m\u001b[0;34m\u001b[0m\u001b[0;34m\u001b[0m\u001b[0m\n\u001b[0;32m----> 4\u001b[0;31m \u001b[0;32mfrom\u001b[0m \u001b[0mcolpali_engine\u001b[0m\u001b[0;34m.\u001b[0m\u001b[0mutils\u001b[0m\u001b[0;34m.\u001b[0m\u001b[0mtorch_utils\u001b[0m \u001b[0;32mimport\u001b[0m \u001b[0mget_torch_device\u001b[0m\u001b[0;34m\u001b[0m\u001b[0;34m\u001b[0m\u001b[0m\n\u001b[0m\u001b[1;32m      5\u001b[0m \u001b[0;32mfrom\u001b[0m \u001b[0mpeft\u001b[0m \u001b[0;32mimport\u001b[0m \u001b[0mLoraConfig\u001b[0m\u001b[0;34m\u001b[0m\u001b[0;34m\u001b[0m\u001b[0m\n\u001b[1;32m      6\u001b[0m \u001b[0;32mfrom\u001b[0m \u001b[0mPIL\u001b[0m \u001b[0;32mimport\u001b[0m \u001b[0mImage\u001b[0m\u001b[0;34m\u001b[0m\u001b[0;34m\u001b[0m\u001b[0m\n",
            "\u001b[0;31mModuleNotFoundError\u001b[0m: No module named 'colpali_engine'",
            "",
            "\u001b[0;31m---------------------------------------------------------------------------\u001b[0;32m\nNOTE: If your import is failing due to a missing package, you can\nmanually install dependencies using either !pip or !apt.\n\nTo view examples of installing some common dependencies, click the\n\"Open Examples\" button below.\n\u001b[0;31m---------------------------------------------------------------------------\u001b[0m\n"
          ],
          "errorDetails": {
            "actions": [
              {
                "action": "open_url",
                "actionText": "Open Examples",
                "url": "/notebooks/snippets/importing_libraries.ipynb"
              }
            ]
          }
        }
      ],
      "source": [
        "from flask import Flask, request, jsonify\n",
        "from typing import Any, List, cast\n",
        "import h5py\n",
        "from colpali_engine.utils.torch_utils import get_torch_device\n",
        "from peft import LoraConfig\n",
        "from PIL import Image\n",
        "from colpali_engine.models import ColQwen2, ColQwen2Processor\n",
        "from transformers.models.qwen2_vl import Qwen2VLForConditionalGeneration, Qwen2VLProcessor\n",
        "import torch\n",
        "import os\n",
        "from pdf2image import convert_from_path\n",
        "import traceback\n",
        "import numpy as np\n",
        "import cv2\n",
        "import base64\n",
        "import ipywidgets as widgets\n",
        "from IPython.display import display\n",
        "from tqdm import tqdm\n",
        "import gc\n",
        "from io import BytesIO"
      ]
    },
    {
      "cell_type": "code",
      "source": [
        "class ColQwen2ForRAG(ColQwen2):\n",
        "    \"\"\"\n",
        "    ColQwen2 model implementation that can be used both for retrieval and generation.\n",
        "    Allows switching between retrieval and generation modes.\n",
        "    \"\"\"\n",
        "\n",
        "    def __init__(self, *args, **kwargs):\n",
        "        super().__init__(*args, **kwargs)\n",
        "        self._is_retrieval_enabled = True\n",
        "\n",
        "    def forward(self, *args, **kwargs) -> Any:\n",
        "        \"\"\"\n",
        "        Forward pass that calls either Qwen2VLForConditionalGeneration.forward for generation\n",
        "        or ColQwen2.forward for retrieval based on the current mode.\n",
        "        \"\"\"\n",
        "        if self.is_retrieval_enabled:\n",
        "            return ColQwen2.forward(self, *args, **kwargs)\n",
        "        else:\n",
        "            return Qwen2VLForConditionalGeneration.forward(self, *args, **kwargs)\n",
        "\n",
        "    def generate(self, *args, **kwargs):\n",
        "        \"\"\"\n",
        "        Generate text using Qwen2VLForConditionalGeneration.generate.\n",
        "        \"\"\"\n",
        "        if not self.is_generation_enabled:\n",
        "            raise ValueError(\n",
        "                \"Set the model to generation mode by calling `enable_generation()` before calling `generate()`.\"\n",
        "            )\n",
        "        return super().generate(*args, **kwargs)\n",
        "\n",
        "    @property\n",
        "    def is_retrieval_enabled(self) -> bool:\n",
        "        return self._is_retrieval_enabled\n",
        "\n",
        "    @property\n",
        "    def is_generation_enabled(self) -> bool:\n",
        "        return not self.is_retrieval_enabled\n",
        "\n",
        "    def enable_retrieval(self) -> None:\n",
        "        \"\"\"\n",
        "        Switch to retrieval mode.\n",
        "        \"\"\"\n",
        "        self.enable_adapters()\n",
        "        self._is_retrieval_enabled = True\n",
        "\n",
        "    def enable_generation(self) -> None:\n",
        "        \"\"\"\n",
        "        Switch to generation mode.\n",
        "        \"\"\"\n",
        "        self.disable_adapters()\n",
        "        self._is_retrieval_enabled = False\n",
        "\n",
        "\n"
      ],
      "metadata": {
        "id": "XyY2ZId-yRul"
      },
      "execution_count": null,
      "outputs": []
    },
    {
      "cell_type": "code",
      "source": [
        "################### Setup Model and Processor ############################\n",
        "model_name = \"vidore/colqwen2-v1.0\"\n",
        "device = get_torch_device(\"auto\")\n",
        "torch.cuda.empty_cache()\n",
        "print(f\"Using device: {device}\")"
      ],
      "metadata": {
        "colab": {
          "base_uri": "https://localhost:8080/",
          "height": 211
        },
        "id": "uHy6Z-IlxxOb",
        "outputId": "cd377ea4-1186-4e75-8a55-fb5dcf7fabc3"
      },
      "execution_count": 3,
      "outputs": [
        {
          "output_type": "error",
          "ename": "NameError",
          "evalue": "name 'get_torch_device' is not defined",
          "traceback": [
            "\u001b[0;31m---------------------------------------------------------------------------\u001b[0m",
            "\u001b[0;31mNameError\u001b[0m                                 Traceback (most recent call last)",
            "\u001b[0;32m<ipython-input-3-ff6827ea2a7f>\u001b[0m in \u001b[0;36m<cell line: 0>\u001b[0;34m()\u001b[0m\n\u001b[1;32m      1\u001b[0m \u001b[0;31m################### Setup Model and Processor ############################\u001b[0m\u001b[0;34m\u001b[0m\u001b[0;34m\u001b[0m\u001b[0m\n\u001b[1;32m      2\u001b[0m \u001b[0mmodel_name\u001b[0m \u001b[0;34m=\u001b[0m \u001b[0;34m\"vidore/colqwen2-v1.0\"\u001b[0m\u001b[0;34m\u001b[0m\u001b[0;34m\u001b[0m\u001b[0m\n\u001b[0;32m----> 3\u001b[0;31m \u001b[0mdevice\u001b[0m \u001b[0;34m=\u001b[0m \u001b[0mget_torch_device\u001b[0m\u001b[0;34m(\u001b[0m\u001b[0;34m\"auto\"\u001b[0m\u001b[0;34m)\u001b[0m\u001b[0;34m\u001b[0m\u001b[0;34m\u001b[0m\u001b[0m\n\u001b[0m\u001b[1;32m      4\u001b[0m \u001b[0mtorch\u001b[0m\u001b[0;34m.\u001b[0m\u001b[0mcuda\u001b[0m\u001b[0;34m.\u001b[0m\u001b[0mempty_cache\u001b[0m\u001b[0;34m(\u001b[0m\u001b[0;34m)\u001b[0m\u001b[0;34m\u001b[0m\u001b[0;34m\u001b[0m\u001b[0m\n\u001b[1;32m      5\u001b[0m \u001b[0mprint\u001b[0m\u001b[0;34m(\u001b[0m\u001b[0;34mf\"Using device: {device}\"\u001b[0m\u001b[0;34m)\u001b[0m\u001b[0;34m\u001b[0m\u001b[0;34m\u001b[0m\u001b[0m\n",
            "\u001b[0;31mNameError\u001b[0m: name 'get_torch_device' is not defined"
          ]
        }
      ]
    },
    {
      "cell_type": "code",
      "source": [
        "lora_config = LoraConfig.from_pretrained(model_name)\n",
        "\n",
        "# Load the processors\n",
        "processor_retrieval = cast(ColQwen2Processor, ColQwen2Processor.from_pretrained(model_name))\n",
        "processor_generation = cast(Qwen2VLProcessor, Qwen2VLProcessor.from_pretrained(lora_config.base_model_name_or_path))\n",
        "\n",
        "model = cast(\n",
        "    ColQwen2ForRAG,\n",
        "    ColQwen2ForRAG.from_pretrained(\n",
        "        model_name,\n",
        "        torch_dtype=torch.bfloat16,\n",
        "        device_map=device,\n",
        "    ),\n",
        ")\n",
        "model = model.eval()\n"
      ],
      "metadata": {
        "colab": {
          "base_uri": "https://localhost:8080/",
          "height": 211
        },
        "id": "omWHVDS7yu6W",
        "outputId": "f870aa54-c9b9-472d-ccb8-9161ab770ba4"
      },
      "execution_count": 4,
      "outputs": [
        {
          "output_type": "error",
          "ename": "NameError",
          "evalue": "name 'LoraConfig' is not defined",
          "traceback": [
            "\u001b[0;31m---------------------------------------------------------------------------\u001b[0m",
            "\u001b[0;31mNameError\u001b[0m                                 Traceback (most recent call last)",
            "\u001b[0;32m<ipython-input-4-3ae7cec7f296>\u001b[0m in \u001b[0;36m<cell line: 0>\u001b[0;34m()\u001b[0m\n\u001b[0;32m----> 1\u001b[0;31m \u001b[0mlora_config\u001b[0m \u001b[0;34m=\u001b[0m \u001b[0mLoraConfig\u001b[0m\u001b[0;34m.\u001b[0m\u001b[0mfrom_pretrained\u001b[0m\u001b[0;34m(\u001b[0m\u001b[0mmodel_name\u001b[0m\u001b[0;34m)\u001b[0m\u001b[0;34m\u001b[0m\u001b[0;34m\u001b[0m\u001b[0m\n\u001b[0m\u001b[1;32m      2\u001b[0m \u001b[0;34m\u001b[0m\u001b[0m\n\u001b[1;32m      3\u001b[0m \u001b[0;31m# Load the processors\u001b[0m\u001b[0;34m\u001b[0m\u001b[0;34m\u001b[0m\u001b[0m\n\u001b[1;32m      4\u001b[0m \u001b[0mprocessor_retrieval\u001b[0m \u001b[0;34m=\u001b[0m \u001b[0mcast\u001b[0m\u001b[0;34m(\u001b[0m\u001b[0mColQwen2Processor\u001b[0m\u001b[0;34m,\u001b[0m \u001b[0mColQwen2Processor\u001b[0m\u001b[0;34m.\u001b[0m\u001b[0mfrom_pretrained\u001b[0m\u001b[0;34m(\u001b[0m\u001b[0mmodel_name\u001b[0m\u001b[0;34m)\u001b[0m\u001b[0;34m)\u001b[0m\u001b[0;34m\u001b[0m\u001b[0;34m\u001b[0m\u001b[0m\n\u001b[1;32m      5\u001b[0m \u001b[0mprocessor_generation\u001b[0m \u001b[0;34m=\u001b[0m \u001b[0mcast\u001b[0m\u001b[0;34m(\u001b[0m\u001b[0mQwen2VLProcessor\u001b[0m\u001b[0;34m,\u001b[0m \u001b[0mQwen2VLProcessor\u001b[0m\u001b[0;34m.\u001b[0m\u001b[0mfrom_pretrained\u001b[0m\u001b[0;34m(\u001b[0m\u001b[0mlora_config\u001b[0m\u001b[0;34m.\u001b[0m\u001b[0mbase_model_name_or_path\u001b[0m\u001b[0;34m)\u001b[0m\u001b[0;34m)\u001b[0m\u001b[0;34m\u001b[0m\u001b[0;34m\u001b[0m\u001b[0m\n",
            "\u001b[0;31mNameError\u001b[0m: name 'LoraConfig' is not defined"
          ]
        }
      ]
    },
    {
      "cell_type": "code",
      "source": [
        "IMAGE_HEIGHT = 1024\n",
        "RETRIEVE_K = 2\n",
        "BATCH_SIZE = 1\n",
        "SCALE_IMAGE = True\n",
        "KNOWLEDGE_BASE = \"knowledge_base.h5\"\n",
        "ROW_SIZE = 128  # The last dimension is fixed\n",
        "\n",
        "# Define a fixed-size array dtype for a row of embedding (128 float32s)\n",
        "row_dtype = np.dtype((np.float32, (ROW_SIZE,)))\n",
        "# Create a variable-length dtype based on that fixed-size type:\n",
        "vlen_float_dtype = h5py.special_dtype(vlen=np.dtype('float32'))\n",
        "\n",
        "print(f\"Using image scaling: {SCALE_IMAGE}\")\n",
        "print(f\"Using batch size: {BATCH_SIZE}\")\n",
        "print(f\"Using retrieve k: {RETRIEVE_K}\")\n",
        "print(f\"Using image height: {IMAGE_HEIGHT}\")"
      ],
      "metadata": {
        "colab": {
          "base_uri": "https://localhost:8080/",
          "height": 211
        },
        "id": "1V9z0wMcyyi3",
        "outputId": "fdb6034d-b8a7-4223-f89e-dd8c72a08ca5"
      },
      "execution_count": 5,
      "outputs": [
        {
          "output_type": "error",
          "ename": "NameError",
          "evalue": "name 'np' is not defined",
          "traceback": [
            "\u001b[0;31m---------------------------------------------------------------------------\u001b[0m",
            "\u001b[0;31mNameError\u001b[0m                                 Traceback (most recent call last)",
            "\u001b[0;32m<ipython-input-5-429d63c0a8f3>\u001b[0m in \u001b[0;36m<cell line: 0>\u001b[0;34m()\u001b[0m\n\u001b[1;32m      7\u001b[0m \u001b[0;34m\u001b[0m\u001b[0m\n\u001b[1;32m      8\u001b[0m \u001b[0;31m# Define a fixed-size array dtype for a row of embedding (128 float32s)\u001b[0m\u001b[0;34m\u001b[0m\u001b[0;34m\u001b[0m\u001b[0m\n\u001b[0;32m----> 9\u001b[0;31m \u001b[0mrow_dtype\u001b[0m \u001b[0;34m=\u001b[0m \u001b[0mnp\u001b[0m\u001b[0;34m.\u001b[0m\u001b[0mdtype\u001b[0m\u001b[0;34m(\u001b[0m\u001b[0;34m(\u001b[0m\u001b[0mnp\u001b[0m\u001b[0;34m.\u001b[0m\u001b[0mfloat32\u001b[0m\u001b[0;34m,\u001b[0m \u001b[0;34m(\u001b[0m\u001b[0mROW_SIZE\u001b[0m\u001b[0;34m,\u001b[0m\u001b[0;34m)\u001b[0m\u001b[0;34m)\u001b[0m\u001b[0;34m)\u001b[0m\u001b[0;34m\u001b[0m\u001b[0;34m\u001b[0m\u001b[0m\n\u001b[0m\u001b[1;32m     10\u001b[0m \u001b[0;31m# Create a variable-length dtype based on that fixed-size type:\u001b[0m\u001b[0;34m\u001b[0m\u001b[0;34m\u001b[0m\u001b[0m\n\u001b[1;32m     11\u001b[0m \u001b[0mvlen_float_dtype\u001b[0m \u001b[0;34m=\u001b[0m \u001b[0mh5py\u001b[0m\u001b[0;34m.\u001b[0m\u001b[0mspecial_dtype\u001b[0m\u001b[0;34m(\u001b[0m\u001b[0mvlen\u001b[0m\u001b[0;34m=\u001b[0m\u001b[0mnp\u001b[0m\u001b[0;34m.\u001b[0m\u001b[0mdtype\u001b[0m\u001b[0;34m(\u001b[0m\u001b[0;34m'float32'\u001b[0m\u001b[0;34m)\u001b[0m\u001b[0;34m)\u001b[0m\u001b[0;34m\u001b[0m\u001b[0;34m\u001b[0m\u001b[0m\n",
            "\u001b[0;31mNameError\u001b[0m: name 'np' is not defined"
          ]
        }
      ]
    },
    {
      "cell_type": "code",
      "source": [
        "# def process_pdf(file_path):\n",
        "#     \"\"\"\n",
        "#     Process a PDF file by extracting pages and running them through ColQwen2 for retrieval.\n",
        "#     Uses a generator to reduce peak RAM usage.\n",
        "#     \"\"\"\n",
        "#     print(\"Starting PDF to image conversion\")\n",
        "\n",
        "#     # Convert PDF pages to images one at a time to save memory\n",
        "#     images_gen = convert_from_path(file_path)\n",
        "\n",
        "#     page_embeddings = []\n",
        "\n",
        "#     for i, image in tqdm(enumerate(images_gen)):\n",
        "#         # Scale each image immediately to reduce memory footprint\n",
        "#         if SCALE_IMAGE:\n",
        "#             image = scale_image(image, new_height=IMAGE_HEIGHT)\n",
        "\n",
        "#         model.enable_retrieval()\n",
        "#         data = processor_retrieval.process_images([image])\n",
        "\n",
        "#         with torch.no_grad():\n",
        "#             batch_doc = {k: v.to(model.device) for k, v in data.items()}\n",
        "#             embedding = model(**batch_doc).cpu().float().numpy()\n",
        "#         print(f\"Embedding shape - {embedding.shape}\")\n",
        "#         page_embeddings.append(embedding)\n",
        "\n",
        "#         # Cleanup memory\n",
        "#         del data, batch_doc, embedding, image\n",
        "#         torch.cuda.empty_cache()\n",
        "#         gc.collect()\n",
        "\n",
        "#     # Concatenate embeddings from all pages\n",
        "#     return images_gen, np.concatenate(page_embeddings, axis=0)\n",
        "\n",
        "def process_pdf(file_path):\n",
        "    \"\"\"\n",
        "    Process a PDF file page by page, extract embeddings, and store embeddings and images in HDF5.\n",
        "    Each page's embedding is expected to have shape (1, N, 128); after dropping the batch dimension,\n",
        "    we get (N, 128). We then flatten it to a 1D array (of length N*128) and store the number N in a separate dataset.\n",
        "    \"\"\"\n",
        "    print(\"Starting PDF processing...\")\n",
        "    images_gen = convert_from_path(file_path)\n",
        "\n",
        "    with h5py.File(KNOWLEDGE_BASE, 'a') as f:\n",
        "        filename = os.path.basename(file_path)\n",
        "        if filename in f:\n",
        "            del f[filename]\n",
        "        group = f.create_group(filename)\n",
        "\n",
        "        # Create extendable dataset for flattened embeddings.\n",
        "        vector_dataset = group.create_dataset(\n",
        "            \"vectors\",\n",
        "            shape=(0,),\n",
        "            maxshape=(None,),\n",
        "            dtype=vlen_float_dtype,\n",
        "            compression=\"gzip\"\n",
        "        )\n",
        "        # Dataset to store the number of rows (N) for each page's embedding.\n",
        "        shape_dataset = group.create_dataset(\n",
        "            \"vector_shapes\",\n",
        "            shape=(0,),\n",
        "            maxshape=(None,),\n",
        "            dtype=np.int32,\n",
        "            compression=\"gzip\"\n",
        "        )\n",
        "        # Create extendable dataset for images as variable-length arrays of bytes.\n",
        "        image_dtype = h5py.special_dtype(vlen=np.dtype('uint8'))\n",
        "        image_dataset = group.create_dataset(\n",
        "            \"images\",\n",
        "            shape=(0,),\n",
        "            maxshape=(None,),\n",
        "            dtype=image_dtype\n",
        "        )\n",
        "        model.enable_retrieval()\n",
        "\n",
        "        for i, image in tqdm(enumerate(images_gen), desc=\"Processing pages\"):\n",
        "            if SCALE_IMAGE:\n",
        "                image = scale_image(image, new_height=IMAGE_HEIGHT)\n",
        "\n",
        "            data = processor_retrieval.process_images([image])\n",
        "            with torch.no_grad():\n",
        "                batch_doc = {k: v.to(model.device) for k, v in data.items()}\n",
        "                embedding = model(**batch_doc).cpu().float().numpy()\n",
        "            # Drop the redundant batch dimension: expected shape becomes (N, 128)\n",
        "            embedding = embedding[0]\n",
        "            print(f\"Embedding shape - {embedding.shape}\")  # e.g. (779, 128)\n",
        "\n",
        "            # Flatten the embedding: (N, 128) -> (N*128,)\n",
        "            flat_embedding = embedding.flatten()\n",
        "\n",
        "            # Convert image to compressed JPEG bytes\n",
        "            img_buffer = BytesIO()\n",
        "            image.save(img_buffer, format=\"JPEG\", quality=75)\n",
        "            img_bytes = np.frombuffer(img_buffer.getvalue(), dtype=np.uint8)\n",
        "\n",
        "            # Extend datasets dynamically\n",
        "            vector_dataset.resize((i + 1,))\n",
        "            shape_dataset.resize((i + 1,))\n",
        "            image_dataset.resize((i + 1,))\n",
        "\n",
        "            vector_dataset[i] = flat_embedding.tolist()\n",
        "            shape_dataset[i] = embedding.shape[0]  # number of rows N\n",
        "            image_dataset[i] = img_bytes\n",
        "\n",
        "            # Cleanup\n",
        "            del data, batch_doc, embedding, flat_embedding, image, img_buffer, img_bytes\n",
        "            torch.cuda.empty_cache()\n",
        "            gc.collect()\n",
        "\n",
        "    print(f\"PDF processing complete. Data stored in group '{filename}'\")\n",
        "\n",
        "def process_query(query):\n",
        "    \"\"\"\n",
        "    Process a query by running it through ColQwen2 for retrieval.\n",
        "\n",
        "    Args:\n",
        "        query (str): The query string.\n",
        "\n",
        "    Returns:\n",
        "        torch.Tensor: The embedding of the query as a tensor with shape (1, embedding_dim).\n",
        "    \"\"\"\n",
        "    data = processor_retrieval.process_queries([query])\n",
        "    model.enable_retrieval()\n",
        "    with torch.no_grad():\n",
        "        batch_doc = {k: v.to(model.device) for k, v in data.items()}\n",
        "        embeddings_doc = model(**batch_doc)\n",
        "    return embeddings_doc.cpu().float().numpy()\n",
        "\n",
        "def get_embeddings_by_filename(filename):\n",
        "    with h5py.File(KNOWLEDGE_BASE, 'r') as f:\n",
        "        if filename not in f:\n",
        "            raise ValueError(f\"Filename {filename} not found in knowledge base.\")\n",
        "        group = f[filename]\n",
        "        vectors = group['vectors']\n",
        "        shapes = group['vector_shapes']\n",
        "        embeddings = []\n",
        "        # Reconstruct each page's embedding from the flattened data.\n",
        "        for i in range(vectors.shape[0]):\n",
        "            flat_embedding = np.array(vectors[i], dtype=np.float32)\n",
        "            # Retrieve the number of rows (N) stored for this page.\n",
        "            N = int(shapes[i])\n",
        "            # Reshape flat_embedding (of length N*128) to (N, 128)\n",
        "            embedding = flat_embedding.reshape(N, ROW_SIZE)\n",
        "            embeddings.append(embedding)\n",
        "        return np.array(embeddings)\n",
        "\n",
        "def get_image_by_filename(filename, page_index):\n",
        "    with h5py.File(KNOWLEDGE_BASE, 'r') as f:\n",
        "        if filename not in f:\n",
        "            raise ValueError(f\"Filename {filename} not found in knowledge base.\")\n",
        "        # Retrieve image bytes for the specified page.\n",
        "        img_bytes = bytes(f[filename]['images'][page_index])\n",
        "        return Image.open(BytesIO(img_bytes))\n",
        "\n",
        "\n",
        "# def get_data_by_filename(filename):\n",
        "#     \"\"\"\n",
        "#     Retrieve vector and image data from the knowledge base HDF5 file for a given filename.\n",
        "\n",
        "#     Args:\n",
        "#         filename (str): The name of the file to look up in the HDF5 knowledge base.\n",
        "\n",
        "#     Returns:\n",
        "#         tuple: A tuple containing the vector data and image data if the filename is found,\n",
        "#                or None if the filename is not present in the knowledge base.\n",
        "#     \"\"\"\n",
        "\n",
        "#     with h5py.File(os.path.join('data','knowledge_base.h5'), 'r') as f:\n",
        "#         if filename in f:\n",
        "#             return f[filename]['vector'][()], f[filename]['image'][()]\n",
        "#         else:\n",
        "#             raise ValueError(f\"Filename {filename} not found in knowledge base.\")\n",
        "\n",
        "def scale_image(image: Image.Image, new_height: int = 1024) -> Image.Image:\n",
        "    \"\"\"\n",
        "    Scale an image to a new height while maintaining the aspect ratio.\n",
        "    \"\"\"\n",
        "    width, height = image.size\n",
        "    aspect_ratio = width / height\n",
        "    new_width = int(new_height * aspect_ratio)\n",
        "\n",
        "    return image.resize((new_width, new_height))\n",
        "\n",
        "# def store_vector(filename, vector_data, image_data):\n",
        "#     \"\"\"\n",
        "#     Stores the vector data for a given filename in an HDF5 file called 'vectors.h5'.\n",
        "\n",
        "#     Args:\n",
        "#         filename (str): The filename of the PDF file.\n",
        "#         vector_data (list): The vector data to store.\n",
        "\n",
        "#     Returns:\n",
        "#         None\n",
        "#     \"\"\"\n",
        "#     os.makedirs('data', exist_ok=True)\n",
        "#     with h5py.File(os.path.join('data','knowledge_base.h5'), 'a') as f:\n",
        "#         # Create a group for each filename if it doesn't exist\n",
        "#         if filename not in f:\n",
        "#             group = f.create_group(filename)\n",
        "#         else:\n",
        "#             group = f[filename]\n",
        "\n",
        "#         # Store the vector data\n",
        "#         if 'vector' in group:\n",
        "#             del group['vector']  # Delete existing dataset if it exists\n",
        "\n",
        "#         # Store the vector data\n",
        "#         if 'image' in group:\n",
        "#             del group['image']  # Delete existing dataset if it exists\n",
        "#         group.create_dataset('vector', data=vector_data)\n",
        "#         group.create_dataset('image', data=image_data)\n",
        "#     print(f\"Stored vector data for {filename} in knowledge base.\")\n",
        "\n",
        "def generate_answer(query, images):\n",
        "    \"\"\"\n",
        "    Generates an answer to a given query using input images and a Retrieval-Augmented Generation (RAG) model.\n",
        "\n",
        "    Args:\n",
        "        query (str): The question or query that needs to be answered.\n",
        "        images (torch.Tensor): The tensor containing image data to be used for answering the query.\n",
        "\n",
        "    Returns:\n",
        "        List[str]: A list of generated text responses based on the input query and images.\n",
        "    \"\"\"\n",
        "\n",
        "    conversation = [\n",
        "        {\n",
        "            \"role\": \"user\",\n",
        "            \"content\": [\n",
        "                *[\n",
        "                    {\"type\": \"image\"}\n",
        "                    for _ in images\n",
        "                ],\n",
        "                {\n",
        "                    \"type\": \"text\",\n",
        "                    \"text\": f\"Answer the following question using the input images: {query}\",\n",
        "                },\n",
        "            ],\n",
        "        }\n",
        "    ]\n",
        "    text_prompt = processor_generation.apply_chat_template(conversation, add_generation_prompt=True)\n",
        "    inputs_generation = processor_generation(\n",
        "        text=[text_prompt],\n",
        "        images=images,\n",
        "        padding=True,\n",
        "        return_tensors=\"pt\",\n",
        "    ).to(device)\n",
        "\n",
        "    # Generate the RAG response\n",
        "    model.enable_generation()\n",
        "    output_ids = model.generate(**inputs_generation, max_new_tokens=100)\n",
        "\n",
        "    # Ensure that only the newly generated token IDs are retained from output_ids\n",
        "    generated_ids = [output_ids[len(input_ids) :] for input_ids, output_ids in zip(inputs_generation.input_ids, output_ids)]\n",
        "\n",
        "    # Decode the RAG response\n",
        "    output_text = processor_generation.batch_decode(\n",
        "        generated_ids,\n",
        "        skip_special_tokens=True,\n",
        "        clean_up_tokenization_spaces=True,\n",
        "    )\n",
        "\n",
        "    del inputs_generation, output_ids, generated_ids\n",
        "    torch.cuda.empty_cache()\n",
        "\n",
        "    return output_text\n",
        "\n",
        "def ndarray_to_base64(ndarr: np.ndarray, image_format: str = 'png') -> str:\n",
        "    \"\"\"\n",
        "    Convert a NumPy ndarray (image) to a base64 encoded string.\n",
        "\n",
        "    Args:\n",
        "        ndarr (np.ndarray): The input image as a NumPy array.\n",
        "        image_format (str): Format to encode the image (default is 'png').\n",
        "\n",
        "    Returns:\n",
        "        str: The base64 encoded string of the image.\n",
        "    \"\"\"\n",
        "    # Encode the numpy array into the specified image format\n",
        "    success, buffer = cv2.imencode(f'.{image_format}', ndarr)\n",
        "    if not success:\n",
        "        raise ValueError(\"Failed to encode image\")\n",
        "\n",
        "    # Convert buffer to bytes and then encode to base64 string\n",
        "    img_bytes = buffer.tobytes()\n",
        "    base64_str = base64.b64encode(img_bytes).decode('utf-8')\n",
        "    return base64_str\n"
      ],
      "metadata": {
        "id": "nxFzrDWUzc_r"
      },
      "execution_count": 31,
      "outputs": []
    },
    {
      "cell_type": "markdown",
      "source": [
        "## Upload PDF"
      ],
      "metadata": {
        "id": "LnAaHacjz-Cg"
      }
    },
    {
      "cell_type": "code",
      "source": [
        "# @title Upload PDF to knowledge base {\"vertical-output\":true}\n",
        "file_path = \"/content/03_chubb_limited_annual_report_2023.pdf\" # @param {\"type\":\"string\"}\n",
        "os.makedirs('uploads', exist_ok=True)\n",
        "\n",
        "# Process with ColQwen2 retrieval model\n",
        "process_pdf(file_path)\n",
        "\n",
        "# Store in HDF5\n",
        "# store_vector(os.path.basename(file_path), page_embeddings, images)\n",
        "\n",
        "# del images, page_embeddings\n",
        "torch.cuda.empty_cache()"
      ],
      "metadata": {
        "colab": {
          "base_uri": "https://localhost:8080/",
          "height": 211
        },
        "id": "-oVFYhXvz9kG",
        "outputId": "31dc3970-3202-4c2b-8b5d-48168164d4be",
        "cellView": "form"
      },
      "execution_count": 1,
      "outputs": [
        {
          "output_type": "error",
          "ename": "NameError",
          "evalue": "name 'os' is not defined",
          "traceback": [
            "\u001b[0;31m---------------------------------------------------------------------------\u001b[0m",
            "\u001b[0;31mNameError\u001b[0m                                 Traceback (most recent call last)",
            "\u001b[0;32m<ipython-input-1-70d1936c29ac>\u001b[0m in \u001b[0;36m<cell line: 0>\u001b[0;34m()\u001b[0m\n\u001b[1;32m      1\u001b[0m \u001b[0;31m# @title Upload PDF to knowledge base {\"vertical-output\":true}\u001b[0m\u001b[0;34m\u001b[0m\u001b[0;34m\u001b[0m\u001b[0m\n\u001b[1;32m      2\u001b[0m \u001b[0mfile_path\u001b[0m \u001b[0;34m=\u001b[0m \u001b[0;34m\"/content/03_chubb_limited_annual_report_2023.pdf\"\u001b[0m \u001b[0;31m# @param {\"type\":\"string\"}\u001b[0m\u001b[0;34m\u001b[0m\u001b[0;34m\u001b[0m\u001b[0m\n\u001b[0;32m----> 3\u001b[0;31m \u001b[0mos\u001b[0m\u001b[0;34m.\u001b[0m\u001b[0mmakedirs\u001b[0m\u001b[0;34m(\u001b[0m\u001b[0;34m'uploads'\u001b[0m\u001b[0;34m,\u001b[0m \u001b[0mexist_ok\u001b[0m\u001b[0;34m=\u001b[0m\u001b[0;32mTrue\u001b[0m\u001b[0;34m)\u001b[0m\u001b[0;34m\u001b[0m\u001b[0;34m\u001b[0m\u001b[0m\n\u001b[0m\u001b[1;32m      4\u001b[0m \u001b[0;34m\u001b[0m\u001b[0m\n\u001b[1;32m      5\u001b[0m \u001b[0;31m# Process with ColQwen2 retrieval model\u001b[0m\u001b[0;34m\u001b[0m\u001b[0;34m\u001b[0m\u001b[0m\n",
            "\u001b[0;31mNameError\u001b[0m: name 'os' is not defined"
          ]
        }
      ]
    },
    {
      "cell_type": "code",
      "source": [
        "# query = \"What is the name of the company?\"\n",
        "# filename = \"Chubb-Limited-Investor-Presentation-December-2023-short.pdf\"\n",
        "# query_embedding = process_query(query)\n",
        "# image_embedding = get_embeddings_by_filename(filename)\n",
        "# image_embedding = get_embeddings_by_filename(filename)\n",
        "# # image_embedding, images = get_data_by_filename(filename)\n",
        "# scores = processor_retrieval.score_multi_vector(\n",
        "#       torch.from_numpy(query_embedding),\n",
        "#       torch.from_numpy(image_embedding)\n",
        "#   )\n",
        "# top_pages = scores.numpy()[0].argsort()[-RETRIEVE_K:][::-1]\n",
        "# print(f'Top pages: {top_pages}')\n",
        "# # images = [get_image_by_filename(filename, page) for page in top_pages]\n",
        "# # print(f'Images: {type(images)}')\n",
        "# # answer = generate_answer(query, images)"
      ],
      "metadata": {
        "id": "UUY18MSEmpRH"
      },
      "execution_count": 56,
      "outputs": []
    },
    {
      "cell_type": "code",
      "source": [
        "filenames = ['a', 'b', 'c']\n",
        "try:\n",
        "    with h5py.File(KNOWLEDGE_BASE, 'r') as f:\n",
        "        filenames = list(f.keys())\n",
        "except:\n",
        "    pass\n",
        "\n",
        "# Create dropdown for file selection\n",
        "file_picker = widgets.Dropdown(options=filenames, description='Select File:')\n",
        "\n",
        "# Create text input box\n",
        "text_input = widgets.Text(description='Input Query:')\n",
        "\n",
        "# Create submit button\n",
        "submit_button = widgets.Button(description='Submit')\n",
        "\n",
        "def on_submit(b):\n",
        "  print(f'Selected file: {file_picker.value}')\n",
        "  print(f'User input: {text_input.value}')\n",
        "  query = text_input.value\n",
        "  filename = file_picker.value\n",
        "  try:\n",
        "    query_embedding = process_query(query)\n",
        "    image_embedding = get_embeddings_by_filename(filename)\n",
        "    # image_embedding, images = get_data_by_filename(filename)\n",
        "    scores = processor_retrieval.score_multi_vector(\n",
        "          torch.from_numpy(query_embedding),\n",
        "          torch.from_numpy(image_embedding)\n",
        "      )\n",
        "    top_pages = scores.numpy()[0].argsort()[-RETRIEVE_K:][::-1]\n",
        "    print(f'Top pages: {top_pages}')\n",
        "    images = [get_image_by_filename(filename, page) for page in top_pages]\n",
        "    print(f'Images: {type(images)}')\n",
        "    answer = generate_answer(query, images)\n",
        "    print(f'Answer: {answer}')\n",
        "  except Exception as e:\n",
        "    print(f'Error: {e}')\n",
        "    traceback.print_exc()\n",
        "\n",
        "submit_button.on_click(on_submit)\n",
        "\n",
        "# Display widgets\n",
        "display(file_picker, text_input, submit_button)\n"
      ],
      "metadata": {
        "id": "mHR4NLxV1uE4",
        "colab": {
          "base_uri": "https://localhost:8080/",
          "height": 198,
          "referenced_widgets": [
            "de65855fc1a54060b84112f3b5cc2427",
            "6cd2bfef0aa84147a3343fc7868f8e0b",
            "3a0ea0b219144ad4873f2d99fef90dde",
            "48906f905c1f4993a63629a1b416bb7e",
            "1ddfc46b1d5b405db93954963d0e190c",
            "b4914869c7594741ab7a715067fa2a07",
            "07a0453c1d1843b8a6e1415880bf7e32",
            "1ef3032bb9394188ad9abc363960950e",
            "76fde9d9163c492f9de63eb63a4560dd"
          ]
        },
        "outputId": "1fea05ce-b488-43d0-d8b7-36fe3be40b3a"
      },
      "execution_count": 57,
      "outputs": [
        {
          "output_type": "stream",
          "name": "stdout",
          "text": [
            "Selected file: Chubb-Limited-Investor-Presentation-December-2023.pdf\n",
            "User input: What Percentage of income came from Agriculture?\n",
            "Top pages: [13 17]\n",
            "Images: <class 'list'>\n",
            "Answer: ['The income from Agriculture was 4.4% of the total income.']\n"
          ]
        },
        {
          "output_type": "display_data",
          "data": {
            "text/plain": [
              "Dropdown(description='Select File:', options=('Chubb-Limited-Investor-Presentation-December-2023-short.pdf', '…"
            ],
            "application/vnd.jupyter.widget-view+json": {
              "version_major": 2,
              "version_minor": 0,
              "model_id": "de65855fc1a54060b84112f3b5cc2427"
            }
          },
          "metadata": {}
        },
        {
          "output_type": "display_data",
          "data": {
            "text/plain": [
              "Text(value='', description='Input Query:')"
            ],
            "application/vnd.jupyter.widget-view+json": {
              "version_major": 2,
              "version_minor": 0,
              "model_id": "48906f905c1f4993a63629a1b416bb7e"
            }
          },
          "metadata": {}
        },
        {
          "output_type": "display_data",
          "data": {
            "text/plain": [
              "Button(description='Submit', style=ButtonStyle())"
            ],
            "application/vnd.jupyter.widget-view+json": {
              "version_major": 2,
              "version_minor": 0,
              "model_id": "07a0453c1d1843b8a6e1415880bf7e32"
            }
          },
          "metadata": {}
        }
      ]
    },
    {
      "cell_type": "markdown",
      "source": [
        "## Image retrieval"
      ],
      "metadata": {
        "id": "nD8-TCZ-VBok"
      }
    },
    {
      "cell_type": "code",
      "source": [
        "dir(processor_retrieval)"
      ],
      "metadata": {
        "colab": {
          "base_uri": "https://localhost:8080/"
        },
        "id": "GDLtAUCIanm9",
        "outputId": "6eb69b33-bc19-4279-8c29-229d73cc7684"
      },
      "execution_count": 12,
      "outputs": [
        {
          "output_type": "execute_result",
          "data": {
            "text/plain": [
              "['__abstractmethods__',\n",
              " '__annotations__',\n",
              " '__call__',\n",
              " '__class__',\n",
              " '__delattr__',\n",
              " '__dict__',\n",
              " '__dir__',\n",
              " '__doc__',\n",
              " '__eq__',\n",
              " '__format__',\n",
              " '__ge__',\n",
              " '__getattribute__',\n",
              " '__getstate__',\n",
              " '__gt__',\n",
              " '__hash__',\n",
              " '__init__',\n",
              " '__init_subclass__',\n",
              " '__le__',\n",
              " '__lt__',\n",
              " '__module__',\n",
              " '__ne__',\n",
              " '__new__',\n",
              " '__reduce__',\n",
              " '__reduce_ex__',\n",
              " '__repr__',\n",
              " '__setattr__',\n",
              " '__sizeof__',\n",
              " '__slots__',\n",
              " '__str__',\n",
              " '__subclasshook__',\n",
              " '__weakref__',\n",
              " '_abc_impl',\n",
              " '_auto_class',\n",
              " '_create_repo',\n",
              " '_get_arguments_from_pretrained',\n",
              " '_get_files_timestamps',\n",
              " '_merge_kwargs',\n",
              " '_upload_modified_files',\n",
              " 'apply_chat_template',\n",
              " 'attributes',\n",
              " 'batch_decode',\n",
              " 'chat_template',\n",
              " 'decode',\n",
              " 'factor',\n",
              " 'feature_extractor_class',\n",
              " 'from_args_and_dict',\n",
              " 'from_pretrained',\n",
              " 'get_image_mask',\n",
              " 'get_n_patches',\n",
              " 'get_processor_dict',\n",
              " 'image_processor',\n",
              " 'image_processor_class',\n",
              " 'image_token',\n",
              " 'image_token_id',\n",
              " 'max_pixels',\n",
              " 'max_ratio',\n",
              " 'min_pixels',\n",
              " 'model_input_names',\n",
              " 'optional_attributes',\n",
              " 'optional_call_args',\n",
              " 'post_process_image_text_to_text',\n",
              " 'prepare_and_validate_optional_call_args',\n",
              " 'process_images',\n",
              " 'process_queries',\n",
              " 'push_to_hub',\n",
              " 'query_augmentation_token',\n",
              " 'query_prefix',\n",
              " 'register_for_auto_class',\n",
              " 'save_pretrained',\n",
              " 'score',\n",
              " 'score_multi_vector',\n",
              " 'score_single_vector',\n",
              " 'smart_resize',\n",
              " 'smart_resize_helper',\n",
              " 'to_dict',\n",
              " 'to_json_file',\n",
              " 'to_json_string',\n",
              " 'tokenizer',\n",
              " 'tokenizer_class',\n",
              " 'valid_kwargs',\n",
              " 'validate_init_kwargs',\n",
              " 'video_token',\n",
              " 'visual_prompt_prefix']"
            ]
          },
          "metadata": {},
          "execution_count": 12
        }
      ]
    },
    {
      "cell_type": "code",
      "source": [
        "def process_image(image):\n",
        "    \"\"\"\n",
        "    Process a image by running it through ColQwen2 for retrieval.\n",
        "\n",
        "    Args:\n",
        "        image : The image.\n",
        "\n",
        "    Returns:\n",
        "        torch.Tensor: The embedding of the image as a tensor with shape (1, embedding_dim).\n",
        "    \"\"\"\n",
        "    data = processor_retrieval.process_images(image)\n",
        "    model.enable_retrieval()\n",
        "    with torch.no_grad():\n",
        "        batch_doc = {k: v.to(model.device) for k, v in data.items()}\n",
        "        embeddings_doc = model(**batch_doc)\n",
        "    return embeddings_doc.cpu().float().numpy()"
      ],
      "metadata": {
        "id": "iwjQf9xhwqM1"
      },
      "execution_count": 13,
      "outputs": []
    },
    {
      "cell_type": "code",
      "source": [
        "from PIL import Image\n",
        "\n",
        "image = Image.open(\"/content/judy gonsalez.jpeg\")\n",
        "image"
      ],
      "metadata": {
        "colab": {
          "base_uri": "https://localhost:8080/",
          "height": 209
        },
        "id": "tyOBCK5dVvwx",
        "outputId": "97910fd3-6f7f-4c75-bcee-8ded973e8046"
      },
      "execution_count": 27,
      "outputs": [
        {
          "output_type": "execute_result",
          "data": {
            "text/plain": [
              "<PIL.JpegImagePlugin.JpegImageFile image mode=RGB size=204x192>"
            ],
            "image/png": "[encoded data removed]",
            "image/jpeg": "[encoded data removed]"
          },
          "metadata": {},
          "execution_count": 27
        }
      ]
    },
    {
      "cell_type": "code",
      "source": [
        "image_embedding = process_image([image])\n",
        "print(image_embedding.shape)"
      ],
      "metadata": {
        "colab": {
          "base_uri": "https://localhost:8080/"
        },
        "id": "OnaqqeNOVzul",
        "outputId": "643be852-4d27-4a9b-e5e1-b446fbabc260"
      },
      "execution_count": 28,
      "outputs": [
        {
          "output_type": "stream",
          "name": "stdout",
          "text": [
            "(1, 60, 128)\n"
          ]
        }
      ]
    },
    {
      "cell_type": "code",
      "source": [
        "filename = \"03_chubb_limited_annual_report_2023.pdf\"\n",
        "query_embedding = image_embedding\n",
        "image_embedding = get_embeddings_by_filename(filename)\n",
        "# image_embedding, images = get_data_by_filename(filename)\n",
        "scores = processor_retrieval.score_multi_vector(\n",
        "      torch.from_numpy(query_embedding),\n",
        "      torch.from_numpy(image_embedding)\n",
        "  )\n",
        "top_pages = scores.numpy()[0].argsort()[-RETRIEVE_K:][::-1]\n",
        "print(f'Top pages: {top_pages}')\n",
        "# images = [get_image_by_filename(filename, page) for page in top_pages]\n",
        "# print(f'Images: {type(images)}')\n"
      ],
      "metadata": {
        "colab": {
          "base_uri": "https://localhost:8080/"
        },
        "id": "vsrXH2bsV8Nf",
        "outputId": "88be029c-0e73-417a-ea1b-8dab7d403545"
      },
      "execution_count": 29,
      "outputs": [
        {
          "output_type": "stream",
          "name": "stdout",
          "text": [
            "Top pages: [ 4 30]\n"
          ]
        }
      ]
    },
    {
      "cell_type": "code",
      "source": [
        "scores.numpy()[0][30]"
      ],
      "metadata": {
        "colab": {
          "base_uri": "https://localhost:8080/"
        },
        "id": "Pqj_gr9rbFCh",
        "outputId": "749852c1-0458-4086-a093-b2f4ad71b932"
      },
      "execution_count": 26,
      "outputs": [
        {
          "output_type": "execute_result",
          "data": {
            "text/plain": [
              "216.89801"
            ]
          },
          "metadata": {},
          "execution_count": 26
        }
      ]
    },
    {
      "cell_type": "code",
      "source": [
        "images = [get_image_by_filename(filename, page) for page in top_pages]\n",
        "for image in images:\n",
        "  print(image)\n",
        "print(f'Images: {type(images)}')"
      ],
      "metadata": {
        "id": "Oa7xzZvSYbvF"
      },
      "execution_count": null,
      "outputs": []
    },
    {
      "cell_type": "code",
      "source": [
        "answer = generate_answer(query, images)\n",
        "print(f'Answer: {answer}')"
      ],
      "metadata": {
        "id": "Vw4yPZu8YUyO"
      },
      "execution_count": null,
      "outputs": []
    }
  ]
}